{
 "cells": [
  {
   "cell_type": "code",
   "execution_count": null,
   "metadata": {},
   "outputs": [],
   "source": [
    "import pandas as pd"
   ]
  },
  {
   "cell_type": "code",
   "execution_count": null,
   "metadata": {},
   "outputs": [],
   "source": [
    "foreignMovies = pd.read_csv ('source/imdbMovies.csv', sep=';')\n",
    "top100Movies = pd.read_csv ('source/top100desc.csv', sep=',')\n",
    "\n",
    "clusters = pd.read_csv('source/clusters.csv', sep=',')"
   ]
  },
  {
   "cell_type": "code",
   "execution_count": null,
   "metadata": {},
   "outputs": [],
   "source": [
    "top100Movies.rename(columns = {'Title':'title'}, inplace = True)"
   ]
  },
  {
   "cell_type": "code",
   "execution_count": null,
   "metadata": {},
   "outputs": [],
   "source": [
    "clustersCleaned = clusters[['label', 'title']]\n",
    "clustersCleaned.rename(columns = {'label':'cluster'}, inplace = True)"
   ]
  },
  {
   "cell_type": "code",
   "execution_count": null,
   "metadata": {},
   "outputs": [],
   "source": [
    "clustersCleaned"
   ]
  },
  {
   "cell_type": "code",
   "execution_count": null,
   "metadata": {},
   "outputs": [],
   "source": [
    "top100Movies"
   ]
  },
  {
   "cell_type": "code",
   "execution_count": null,
   "metadata": {},
   "outputs": [],
   "source": [
    "foreignMoviesWithClusters = foreignMovies.merge(clustersCleaned,left_on=\"title\", right_on='title' )"
   ]
  },
  {
   "cell_type": "code",
   "execution_count": null,
   "metadata": {},
   "outputs": [],
   "source": [
    "foreignMoviesWithClusters"
   ]
  },
  {
   "cell_type": "code",
   "execution_count": null,
   "metadata": {},
   "outputs": [],
   "source": [
    "top100MoviesWithClusters = top100Movies.merge(clustersCleaned,left_on=\"title\", right_on='title')"
   ]
  },
  {
   "cell_type": "code",
   "execution_count": null,
   "metadata": {},
   "outputs": [],
   "source": [
    "top100MoviesWithClusters"
   ]
  },
  {
   "cell_type": "code",
   "execution_count": null,
   "metadata": {},
   "outputs": [],
   "source": [
    "foreignMoviesWithClusters[['title', 'country', 'genre','original title', 'rating', 'ratingcount', 'url', 'year', 'cluster']].to_csv('source/foreignMoviesClustered.csv')\n",
    "top100MoviesWithClusters[['title', 'Genre', 'cluster']].to_csv('source/top100Clustered.csv')"
   ]
  },
  {
   "attachments": {},
   "cell_type": "markdown",
   "metadata": {},
   "source": [
    "The recommender starts here"
   ]
  },
  {
   "cell_type": "code",
   "execution_count": 45,
   "metadata": {},
   "outputs": [],
   "source": [
    "foreignMovies = pd.read_csv ('source/foreignMoviesClustered.csv')\n",
    "top100Movies = pd.read_csv ('source/top100Clustered.csv')\n",
    "\n",
    "selectedMovie = \"The Godfather\"\n",
    "\n",
    "selectedCountry = \"Greece\"\n",
    "\n",
    "selectedMovieRow= top100Movies[top100Movies['title'] == selectedMovie]\n",
    "\n",
    "selectedMovieCluster= selectedMovieRow['cluster'][0]\n",
    "foreignMovies = foreignMovies[(foreignMovies.cluster == selectedMovieCluster) & (foreignMovies.country == selectedCountry)]\n",
    "foreignMovies.sort_values(by=['rating'], ascending=True, inplace=True)\n"
   ]
  },
  {
   "cell_type": "code",
   "execution_count": 46,
   "metadata": {},
   "outputs": [
    {
     "name": "stdout",
     "output_type": "stream",
     "text": [
      "Your movies:\n",
      "Feel Your Heartbeat: The Film (2022)\n",
      "Athena Ex Nihilo (2013)\n"
     ]
    }
   ],
   "source": [
    "print(\"Your movies:\",)\n",
    "i = 0\n",
    "for index, row in foreignMovies.iterrows():\n",
    "    i += 1\n",
    "    if i > 2:\n",
    "        break\n",
    "    print(row['title'])"
   ]
  }
 ],
 "metadata": {
  "kernelspec": {
   "display_name": "Python 3",
   "language": "python",
   "name": "python3"
  },
  "language_info": {
   "codemirror_mode": {
    "name": "ipython",
    "version": 3
   },
   "file_extension": ".py",
   "mimetype": "text/x-python",
   "name": "python",
   "nbconvert_exporter": "python",
   "pygments_lexer": "ipython3",
   "version": "3.9.7 (default, Oct 13 2021, 06:45:31) \n[Clang 13.0.0 (clang-1300.0.29.3)]"
  },
  "orig_nbformat": 4,
  "vscode": {
   "interpreter": {
    "hash": "aee8b7b246df8f9039afb4144a1f6fd8d2ca17a180786b69acc140d282b71a49"
   }
  }
 },
 "nbformat": 4,
 "nbformat_minor": 2
}
