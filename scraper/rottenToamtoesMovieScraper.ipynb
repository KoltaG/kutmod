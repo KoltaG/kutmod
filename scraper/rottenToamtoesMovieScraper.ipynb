{
 "cells": [
  {
   "cell_type": "code",
   "execution_count": null,
   "metadata": {},
   "outputs": [],
   "source": [
    "import pandas as pd\n",
    "from selenium import webdriver\n",
    "from webdriver_manager.chrome import ChromeDriverManager\n",
    "from selenium.webdriver.common.by import By\n",
    "\n",
    "driver = webdriver.Chrome('/Applications/chromedriver')\n",
    "\n",
    "import csv \n",
    "\n",
    "links = []\n",
    "\n",
    "#with open('links_wo_duplicates.csv') as csvfile:    \n",
    "with open('foreignLinks.csv') as csvfile:    \n",
    "\tcsvReader = csv.reader(csvfile)    \n",
    "\tfor row in csvReader:        \n",
    "\t\tlinks.append(row[0])\n",
    "\n",
    "links.pop(0)\t#remove first element which is the header\t   \n",
    "print(links)\n",
    "\n",
    "dta = pd.DataFrame(columns=['Movie Name', 'Audience Score', 'Tomatometer Score', 'Rating', 'Genre',\n",
    "                            'Original Language', 'Director', 'Producer', 'Writer', 'Release Date (Theaters)',\n",
    "                           'Release Date (Streaming)', 'Box Office (Gross USA)', 'Runtime', 'Distributor',\n",
    "                            'Sound Mix', 'Aspect Ratio', 'View the collection'])\n"
   ]
  },
  {
   "cell_type": "code",
   "execution_count": null,
   "metadata": {},
   "outputs": [],
   "source": [
    "dta.info()"
   ]
  },
  {
   "cell_type": "code",
   "execution_count": null,
   "metadata": {},
   "outputs": [],
   "source": [
    "\n",
    "from tqdm import tqdm\n",
    "\n",
    "for link in tqdm(links, desc='loading....'):\n",
    "    driver.get(link)\n",
    "    info_we = driver.find_elements(By.XPATH,'//score-board')\n",
    "    if len(info_we) == 0:\n",
    "        continue\n",
    "    movie_info = {'Movie Name':'','Audience Score':'','Tomatometer Score':''}\n",
    "    movie_info['Movie Name'] = info_we[0].text.split('\\n')[0]\n",
    "    movie_info['Audience Score'] = info_we[0].get_attribute('audiencescore')\n",
    "    movie_info['Tomatometer Score'] = info_we[0].get_attribute('tomatometerscore')\n",
    "    webelement_list_val = []\n",
    "    webelement_list_key = []\n",
    "    webelement_list_key = driver.find_elements(By.XPATH,'//div[@data-qa=\"movie-info-item-label\"]')\n",
    "    webelement_list_val = driver.find_elements(By.XPATH,'//div[@data-qa=\"movie-info-item-value\"]')\n",
    "    key_list, val_list = [],[]\n",
    "    for k,v in zip(webelement_list_key, webelement_list_val):\n",
    "        key_list.append(k.text.strip(':'))\n",
    "        val_list.append(v.text)\n",
    "    info = dict(zip(key_list,val_list))\n",
    "\n",
    "    total_info = {**movie_info,**info} \n",
    "    dta = dta.append(total_info, ignore_index=True)  \n",
    "\n",
    "dta.to_csv('output/foreignMoviesDirty.csv', index=False)\n",
    "\n",
    "dta['Audience Score'].loc[dta['Audience Score'] == \"\"] = -1\n",
    "dta['Tomatometer Score'].loc[dta['Tomatometer Score'] == \"\"] = -1\n",
    "\n",
    "dta[['Tomatometer Score','Audience Score']]=dta[['Tomatometer Score','Audience Score']].astype(int)\n",
    "\n",
    "dta['Release Date (Streaming)'] = pd.to_datetime(dta['Release Date (Streaming)'])\n",
    "\n",
    "def func(x):\n",
    "    if type(x) != float:\n",
    "        li = x.split(' ')\n",
    "        li.remove(li[-1])\n",
    "        time = ' '.join(li).replace(',','')\n",
    "        return time\n",
    "dta['Release Date (Theaters)'] = dta['Release Date (Theaters)'].apply(func)\n",
    "dta['Release Date (Theaters)'] = pd.to_datetime(dta['Release Date (Theaters)'])\n",
    "\n",
    "dta['Rating'].loc[dta['Rating'].isnull()] = 'None'\n",
    "\n",
    "dta['Rating'] = dta['Rating'].agg(lambda a : a.split(' ')[0])\n",
    "\n",
    "dta.to_csv('output/foreignMoviesCleaned.csv', index=False)"
   ]
  },
  {
   "cell_type": "code",
   "execution_count": 11,
   "metadata": {},
   "outputs": [
    {
     "name": "stderr",
     "output_type": "stream",
     "text": [
      "/var/folders/r6/0f88gc2d4n72g44xyxkb5bmr0000gn/T/ipykernel_3803/873058223.py:1: SettingWithCopyWarning: \n",
      "A value is trying to be set on a copy of a slice from a DataFrame\n",
      "\n",
      "See the caveats in the documentation: https://pandas.pydata.org/pandas-docs/stable/user_guide/indexing.html#returning-a-view-versus-a-copy\n",
      "  dta['Audience Score'].loc[dta['Audience Score'] == \"\"] = -1\n",
      "/var/folders/r6/0f88gc2d4n72g44xyxkb5bmr0000gn/T/ipykernel_3803/873058223.py:2: SettingWithCopyWarning: \n",
      "A value is trying to be set on a copy of a slice from a DataFrame\n",
      "\n",
      "See the caveats in the documentation: https://pandas.pydata.org/pandas-docs/stable/user_guide/indexing.html#returning-a-view-versus-a-copy\n",
      "  dta['Tomatometer Score'].loc[dta['Tomatometer Score'] == \"\"] = -1\n",
      "/var/folders/r6/0f88gc2d4n72g44xyxkb5bmr0000gn/T/ipykernel_3803/873058223.py:17: SettingWithCopyWarning: \n",
      "A value is trying to be set on a copy of a slice from a DataFrame\n",
      "\n",
      "See the caveats in the documentation: https://pandas.pydata.org/pandas-docs/stable/user_guide/indexing.html#returning-a-view-versus-a-copy\n",
      "  dta['Rating'].loc[dta['Rating'].isnull()] = 'None'\n"
     ]
    }
   ],
   "source": [
    "##only the cleaning part\n",
    "dta['Audience Score'].loc[dta['Audience Score'] == \"\"] = -1\n",
    "dta['Tomatometer Score'].loc[dta['Tomatometer Score'] == \"\"] = -1\n",
    "\n",
    "dta[['Tomatometer Score','Audience Score']]=dta[['Tomatometer Score','Audience Score']].astype(int)\n",
    "\n",
    "dta['Release Date (Streaming)'] = pd.to_datetime(dta['Release Date (Streaming)'])\n",
    "\n",
    "def func(x):\n",
    "    if type(x) != float:\n",
    "        li = x.split(' ')\n",
    "        li.remove(li[-1])\n",
    "        time = ' '.join(li).replace(',','')\n",
    "        return time\n",
    "if not dta['Release Date (Theaters)'].isnull():        \n",
    "    dta['Release Date (Theaters)'] = dta['Release Date (Theaters)'].apply(func)\n",
    "    dta['Release Date (Theaters)'] = pd.to_datetime(dta['Release Date (Theaters)'])\n",
    "\n",
    "dta['Rating'].loc[dta['Rating'].isnull()] = 'None'\n",
    "\n",
    "dta['Rating'] = dta['Rating'].agg(lambda a : a.split(' ')[0])\n",
    "\n",
    "dta.to_csv('output/cleanedMovies.csv', index=False)"
   ]
  }
 ],
 "metadata": {
  "kernelspec": {
   "display_name": "Python 3.9.7 64-bit",
   "language": "python",
   "name": "python3"
  },
  "language_info": {
   "codemirror_mode": {
    "name": "ipython",
    "version": 3
   },
   "file_extension": ".py",
   "mimetype": "text/x-python",
   "name": "python",
   "nbconvert_exporter": "python",
   "pygments_lexer": "ipython3",
   "version": "3.9.7"
  },
  "orig_nbformat": 4,
  "vscode": {
   "interpreter": {
    "hash": "aee8b7b246df8f9039afb4144a1f6fd8d2ca17a180786b69acc140d282b71a49"
   }
  }
 },
 "nbformat": 4,
 "nbformat_minor": 2
}
