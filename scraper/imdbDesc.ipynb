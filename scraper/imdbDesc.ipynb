{
 "cells": [
  {
   "cell_type": "code",
   "execution_count": 1,
   "metadata": {},
   "outputs": [],
   "source": [
    "# Python Package imports\n",
    "import requests\n",
    "from bs4 import BeautifulSoup\n",
    "from dateutil.parser import parse\n",
    "import concurrent.futures\n",
    "import pandas as pd"
   ]
  },
  {
   "cell_type": "code",
   "execution_count": 2,
   "metadata": {},
   "outputs": [],
   "source": [
    "movie_title_arr = []\n",
    "movie_synopsis_arr =[]"
   ]
  },
  {
   "cell_type": "code",
   "execution_count": 3,
   "metadata": {},
   "outputs": [],
   "source": [
    "def getMovieTitle(header):\n",
    "    try:\n",
    "        return header[0].find(\"a\").getText()\n",
    "    except:\n",
    "        return 'NA'\n",
    "\n",
    "\n",
    "def getsynopsys(movie):\n",
    "    try:\n",
    "        return movie.find_all(\"p\", {\"class\":  \"text-muted\"})[1].getText()\n",
    "    except:\n",
    "        return 'NA'\n"
   ]
  },
  {
   "cell_type": "code",
   "execution_count": 5,
   "metadata": {},
   "outputs": [],
   "source": [
    "def main(imdb_url):\n",
    "    response = requests.get(imdb_url)\n",
    "    soup = BeautifulSoup(response.text, 'html.parser')\n",
    "\n",
    "    # Movie Name\n",
    "    movies_list  = soup.find_all(\"div\", {\"class\": \"lister-item mode-advanced\"})\n",
    "    \n",
    "    for movie in movies_list:\n",
    "        header = movie.find_all(\"h3\", {\"class\":  \"lister-item-header\"})\n",
    "        imageDiv =  movie.find(\"div\", {\"class\": \"lister-item-image float-left\"})\n",
    "        \n",
    "        #  Movie Title\n",
    "        movie_title =  getMovieTitle(header)\n",
    "        movie_title_arr.append(movie_title)\n",
    "        \n",
    "        \n",
    "        # Movie Synopsys\n",
    "        synopsis = getsynopsys(movie)\n",
    "        movie_synopsis_arr.append(synopsis)\n",
    "        "
   ]
  },
  {
   "cell_type": "code",
   "execution_count": 11,
   "metadata": {},
   "outputs": [
    {
     "name": "stdout",
     "output_type": "stream",
     "text": [
      "0\n",
      "251\n",
      "501\n",
      "751\n",
      "1001\n",
      "1251\n",
      "1501\n",
      "1751\n",
      "2001\n",
      "2251\n",
      "2501\n",
      "2751\n",
      "3001\n",
      "3251\n",
      "3501\n",
      "3751\n",
      "4001\n",
      "4251\n",
      "4501\n",
      "4751\n",
      "5001\n",
      "5251\n",
      "5501\n",
      "5751\n",
      "6001\n",
      "6251\n",
      "6501\n",
      "6751\n",
      "7001\n",
      "7251\n",
      "7501\n",
      "7751\n",
      "8001\n",
      "8251\n",
      "8501\n",
      "8751\n",
      "9001\n",
      "9251\n",
      "9501\n",
      "9751\n",
      "10001\n",
      "10251\n",
      "10501\n",
      "10751\n",
      "11001\n",
      "11251\n",
      "11501\n",
      "11751\n",
      "12001\n",
      "12251\n",
      "12501\n"
     ]
    }
   ],
   "source": [
    "# An array to store all the URL that are being queried\n",
    "imageArr = []\n",
    "\n",
    "# Maximum number of pages one wants to iterate over\n",
    "MAX_PAGE =51\n",
    "\n",
    "# Loop to generate all the URLS.\n",
    "for i in range(0,MAX_PAGE):\n",
    "    totalRecords = 0 if i==0 else (250*i)+1\n",
    "    print(totalRecords)\n",
    "    imdb_url = f'https://www.imdb.com/search/title/?release_date=2020-01-02,2021-02-01&user_rating=4.0,10.0&languages=en&count=250&start={totalRecords}&ref_=adv_nxt'\n",
    "    imageArr.append(imdb_url)"
   ]
  },
  {
   "cell_type": "code",
   "execution_count": 15,
   "metadata": {},
   "outputs": [
    {
     "data": {
      "text/plain": [
       "['https://www.imdb.com/search/title/?release_date=2020-01-02,2021-02-01&user_rating=4.0,10.0&languages=en&count=250&start=0&ref_=adv_nxt',\n",
       " 'https://www.imdb.com/search/title/?release_date=2020-01-02,2021-02-01&user_rating=4.0,10.0&languages=en&count=250&start=251&ref_=adv_nxt',\n",
       " 'https://www.imdb.com/search/title/?release_date=2020-01-02,2021-02-01&user_rating=4.0,10.0&languages=en&count=250&start=501&ref_=adv_nxt',\n",
       " 'https://www.imdb.com/search/title/?release_date=2020-01-02,2021-02-01&user_rating=4.0,10.0&languages=en&count=250&start=751&ref_=adv_nxt',\n",
       " 'https://www.imdb.com/search/title/?release_date=2020-01-02,2021-02-01&user_rating=4.0,10.0&languages=en&count=250&start=1001&ref_=adv_nxt',\n",
       " 'https://www.imdb.com/search/title/?release_date=2020-01-02,2021-02-01&user_rating=4.0,10.0&languages=en&count=250&start=1251&ref_=adv_nxt',\n",
       " 'https://www.imdb.com/search/title/?release_date=2020-01-02,2021-02-01&user_rating=4.0,10.0&languages=en&count=250&start=1501&ref_=adv_nxt',\n",
       " 'https://www.imdb.com/search/title/?release_date=2020-01-02,2021-02-01&user_rating=4.0,10.0&languages=en&count=250&start=1751&ref_=adv_nxt',\n",
       " 'https://www.imdb.com/search/title/?release_date=2020-01-02,2021-02-01&user_rating=4.0,10.0&languages=en&count=250&start=2001&ref_=adv_nxt',\n",
       " 'https://www.imdb.com/search/title/?release_date=2020-01-02,2021-02-01&user_rating=4.0,10.0&languages=en&count=250&start=2251&ref_=adv_nxt',\n",
       " 'https://www.imdb.com/search/title/?release_date=2020-01-02,2021-02-01&user_rating=4.0,10.0&languages=en&count=250&start=2501&ref_=adv_nxt',\n",
       " 'https://www.imdb.com/search/title/?release_date=2020-01-02,2021-02-01&user_rating=4.0,10.0&languages=en&count=250&start=2751&ref_=adv_nxt',\n",
       " 'https://www.imdb.com/search/title/?release_date=2020-01-02,2021-02-01&user_rating=4.0,10.0&languages=en&count=250&start=3001&ref_=adv_nxt',\n",
       " 'https://www.imdb.com/search/title/?release_date=2020-01-02,2021-02-01&user_rating=4.0,10.0&languages=en&count=250&start=3251&ref_=adv_nxt',\n",
       " 'https://www.imdb.com/search/title/?release_date=2020-01-02,2021-02-01&user_rating=4.0,10.0&languages=en&count=250&start=3501&ref_=adv_nxt',\n",
       " 'https://www.imdb.com/search/title/?release_date=2020-01-02,2021-02-01&user_rating=4.0,10.0&languages=en&count=250&start=3751&ref_=adv_nxt',\n",
       " 'https://www.imdb.com/search/title/?release_date=2020-01-02,2021-02-01&user_rating=4.0,10.0&languages=en&count=250&start=4001&ref_=adv_nxt',\n",
       " 'https://www.imdb.com/search/title/?release_date=2020-01-02,2021-02-01&user_rating=4.0,10.0&languages=en&count=250&start=4251&ref_=adv_nxt',\n",
       " 'https://www.imdb.com/search/title/?release_date=2020-01-02,2021-02-01&user_rating=4.0,10.0&languages=en&count=250&start=4501&ref_=adv_nxt',\n",
       " 'https://www.imdb.com/search/title/?release_date=2020-01-02,2021-02-01&user_rating=4.0,10.0&languages=en&count=250&start=4751&ref_=adv_nxt',\n",
       " 'https://www.imdb.com/search/title/?release_date=2020-01-02,2021-02-01&user_rating=4.0,10.0&languages=en&count=250&start=5001&ref_=adv_nxt',\n",
       " 'https://www.imdb.com/search/title/?release_date=2020-01-02,2021-02-01&user_rating=4.0,10.0&languages=en&count=250&start=5251&ref_=adv_nxt',\n",
       " 'https://www.imdb.com/search/title/?release_date=2020-01-02,2021-02-01&user_rating=4.0,10.0&languages=en&count=250&start=5501&ref_=adv_nxt',\n",
       " 'https://www.imdb.com/search/title/?release_date=2020-01-02,2021-02-01&user_rating=4.0,10.0&languages=en&count=250&start=5751&ref_=adv_nxt',\n",
       " 'https://www.imdb.com/search/title/?release_date=2020-01-02,2021-02-01&user_rating=4.0,10.0&languages=en&count=250&start=6001&ref_=adv_nxt',\n",
       " 'https://www.imdb.com/search/title/?release_date=2020-01-02,2021-02-01&user_rating=4.0,10.0&languages=en&count=250&start=6251&ref_=adv_nxt',\n",
       " 'https://www.imdb.com/search/title/?release_date=2020-01-02,2021-02-01&user_rating=4.0,10.0&languages=en&count=250&start=6501&ref_=adv_nxt',\n",
       " 'https://www.imdb.com/search/title/?release_date=2020-01-02,2021-02-01&user_rating=4.0,10.0&languages=en&count=250&start=6751&ref_=adv_nxt',\n",
       " 'https://www.imdb.com/search/title/?release_date=2020-01-02,2021-02-01&user_rating=4.0,10.0&languages=en&count=250&start=7001&ref_=adv_nxt',\n",
       " 'https://www.imdb.com/search/title/?release_date=2020-01-02,2021-02-01&user_rating=4.0,10.0&languages=en&count=250&start=7251&ref_=adv_nxt',\n",
       " 'https://www.imdb.com/search/title/?release_date=2020-01-02,2021-02-01&user_rating=4.0,10.0&languages=en&count=250&start=7501&ref_=adv_nxt',\n",
       " 'https://www.imdb.com/search/title/?release_date=2020-01-02,2021-02-01&user_rating=4.0,10.0&languages=en&count=250&start=7751&ref_=adv_nxt',\n",
       " 'https://www.imdb.com/search/title/?release_date=2020-01-02,2021-02-01&user_rating=4.0,10.0&languages=en&count=250&start=8001&ref_=adv_nxt',\n",
       " 'https://www.imdb.com/search/title/?release_date=2020-01-02,2021-02-01&user_rating=4.0,10.0&languages=en&count=250&start=8251&ref_=adv_nxt',\n",
       " 'https://www.imdb.com/search/title/?release_date=2020-01-02,2021-02-01&user_rating=4.0,10.0&languages=en&count=250&start=8501&ref_=adv_nxt',\n",
       " 'https://www.imdb.com/search/title/?release_date=2020-01-02,2021-02-01&user_rating=4.0,10.0&languages=en&count=250&start=8751&ref_=adv_nxt',\n",
       " 'https://www.imdb.com/search/title/?release_date=2020-01-02,2021-02-01&user_rating=4.0,10.0&languages=en&count=250&start=9001&ref_=adv_nxt',\n",
       " 'https://www.imdb.com/search/title/?release_date=2020-01-02,2021-02-01&user_rating=4.0,10.0&languages=en&count=250&start=9251&ref_=adv_nxt',\n",
       " 'https://www.imdb.com/search/title/?release_date=2020-01-02,2021-02-01&user_rating=4.0,10.0&languages=en&count=250&start=9501&ref_=adv_nxt',\n",
       " 'https://www.imdb.com/search/title/?release_date=2020-01-02,2021-02-01&user_rating=4.0,10.0&languages=en&count=250&start=9751&ref_=adv_nxt',\n",
       " 'https://www.imdb.com/search/title/?release_date=2020-01-02,2021-02-01&user_rating=4.0,10.0&languages=en&count=250&start=10001&ref_=adv_nxt',\n",
       " 'https://www.imdb.com/search/title/?release_date=2020-01-02,2021-02-01&user_rating=4.0,10.0&languages=en&count=250&start=10251&ref_=adv_nxt',\n",
       " 'https://www.imdb.com/search/title/?release_date=2020-01-02,2021-02-01&user_rating=4.0,10.0&languages=en&count=250&start=10501&ref_=adv_nxt',\n",
       " 'https://www.imdb.com/search/title/?release_date=2020-01-02,2021-02-01&user_rating=4.0,10.0&languages=en&count=250&start=10751&ref_=adv_nxt',\n",
       " 'https://www.imdb.com/search/title/?release_date=2020-01-02,2021-02-01&user_rating=4.0,10.0&languages=en&count=250&start=11001&ref_=adv_nxt',\n",
       " 'https://www.imdb.com/search/title/?release_date=2020-01-02,2021-02-01&user_rating=4.0,10.0&languages=en&count=250&start=11251&ref_=adv_nxt',\n",
       " 'https://www.imdb.com/search/title/?release_date=2020-01-02,2021-02-01&user_rating=4.0,10.0&languages=en&count=250&start=11501&ref_=adv_nxt',\n",
       " 'https://www.imdb.com/search/title/?release_date=2020-01-02,2021-02-01&user_rating=4.0,10.0&languages=en&count=250&start=11751&ref_=adv_nxt',\n",
       " 'https://www.imdb.com/search/title/?release_date=2020-01-02,2021-02-01&user_rating=4.0,10.0&languages=en&count=250&start=12001&ref_=adv_nxt',\n",
       " 'https://www.imdb.com/search/title/?release_date=2020-01-02,2021-02-01&user_rating=4.0,10.0&languages=en&count=250&start=12251&ref_=adv_nxt',\n",
       " 'https://www.imdb.com/search/title/?release_date=2020-01-02,2021-02-01&user_rating=4.0,10.0&languages=en&count=250&start=12501&ref_=adv_nxt']"
      ]
     },
     "execution_count": 15,
     "metadata": {},
     "output_type": "execute_result"
    }
   ],
   "source": [
    "imageArr"
   ]
  },
  {
   "cell_type": "code",
   "execution_count": 14,
   "metadata": {},
   "outputs": [],
   "source": [
    "def download_stories(story_urls):\n",
    "    threads = min(MAX_THREADS, len(story_urls))\n",
    "    with concurrent.futures.ThreadPoolExecutor(max_workers=threads) as executor:\n",
    "        executor.map(main, story_urls)"
   ]
  },
  {
   "cell_type": "code",
   "execution_count": null,
   "metadata": {},
   "outputs": [],
   "source": []
  },
  {
   "cell_type": "code",
   "execution_count": null,
   "metadata": {},
   "outputs": [],
   "source": []
  },
  {
   "cell_type": "code",
   "execution_count": 9,
   "metadata": {},
   "outputs": [],
   "source": [
    "main(\"https://www.imdb.com/title/tt0068646/?ref_=ttls_li_tt\")"
   ]
  },
  {
   "cell_type": "code",
   "execution_count": 13,
   "metadata": {},
   "outputs": [
    {
     "name": "stdout",
     "output_type": "stream",
     "text": [
      "--------- Download Complete CSV Formed --------\n",
      "Empty DataFrame\n",
      "Columns: [Title, Synopsis]\n",
      "Index: []\n"
     ]
    }
   ],
   "source": [
    "# Attach all the data to the pandas dataframe. You can optionally write it to a CSV file as well\n",
    "movieDf = pd.DataFrame({\n",
    "    \"Title\": movie_title_arr,\n",
    "    \"Synopsis\": movie_synopsis_arr,\n",
    "})\n",
    "\n",
    "print('--------- Download Complete CSV Formed --------')\n",
    "\n",
    "#movieDf.to_csv('output/synopsis.csv', index=False) \n",
    "movieDf.head()\n",
    "\n",
    "print(movieDf)\n"
   ]
  }
 ],
 "metadata": {
  "kernelspec": {
   "display_name": "Python 3.9.7 64-bit",
   "language": "python",
   "name": "python3"
  },
  "language_info": {
   "codemirror_mode": {
    "name": "ipython",
    "version": 3
   },
   "file_extension": ".py",
   "mimetype": "text/x-python",
   "name": "python",
   "nbconvert_exporter": "python",
   "pygments_lexer": "ipython3",
   "version": "3.9.7"
  },
  "orig_nbformat": 4,
  "vscode": {
   "interpreter": {
    "hash": "aee8b7b246df8f9039afb4144a1f6fd8d2ca17a180786b69acc140d282b71a49"
   }
  }
 },
 "nbformat": 4,
 "nbformat_minor": 2
}
