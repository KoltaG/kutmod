{
 "cells": [
  {
   "cell_type": "markdown",
   "metadata": {},
   "source": [
    "Rotten tomatoes guide for top movies. "
   ]
  },
  {
   "cell_type": "code",
   "execution_count": 41,
   "metadata": {},
   "outputs": [],
   "source": [
    "import pandas as pd\n",
    "from selenium import webdriver\n",
    "from webdriver_manager.chrome import ChromeDriverManager\n",
    "from selenium.webdriver.common.by import By\n",
    "import time"
   ]
  },
  {
   "cell_type": "code",
   "execution_count": null,
   "metadata": {},
   "outputs": [],
   "source": [
    "#driver = webdriver.Chrome(ChromeDriverManager().install())\n",
    "driver = webdriver.Chrome('/Applications/chromedriver')"
   ]
  },
  {
   "cell_type": "markdown",
   "metadata": {},
   "source": [
    "TODO: paginate."
   ]
  },
  {
   "cell_type": "code",
   "execution_count": 72,
   "metadata": {},
   "outputs": [],
   "source": [
    "driver.get('https://www.rottentomatoes.com/browse/movies_at_home/critics:certified_fresh?page=5')"
   ]
  },
  {
   "cell_type": "code",
   "execution_count": null,
   "metadata": {},
   "outputs": [],
   "source": [
    "## click button paginate manually for the movie links.\n",
    "from selenium.common.exceptions import WebDriverException\n",
    "\n",
    "for i in range(1, 2):  \n",
    "    time.sleep(7)\n",
    "    try:\n",
    "        pag = driver.find_element(By.XPATH,'//div[@class=\"discovery__actions\"]//button')\n",
    "        driver.execute_script(\"arguments[0].click();\", pag)\n",
    "    except WebDriverException:\n",
    "        break;       \n",
    "\n",
    "movie_we = driver.find_elements(By.XPATH, '//a[@class = \"js-tile-link\"]')   \n",
    " \n",
    "links = []\n",
    "for i in range(len(movie_we)):\n",
    "    links.append(movie_we[i].get_attribute('href'))\n",
    "links    \n",
    "\n",
    "#pd.DataFrame(links).to_csv('links.csv') # save the links to a csv file"
   ]
  },
  {
   "cell_type": "code",
   "execution_count": 64,
   "metadata": {},
   "outputs": [],
   "source": [
    "movie_we = driver.find_elements(By.XPATH, '//a[@class = \"js-tile-link\"]') \n",
    "\n",
    "links = []\n",
    "for i in range(len(movie_we)):\n",
    "    links.append(movie_we[i].get_attribute('href'))\n",
    "\n",
    "pd.DataFrame(links).to_csv('links.csv') # save the links to a csv file"
   ]
  },
  {
   "cell_type": "code",
   "execution_count": null,
   "metadata": {},
   "outputs": [],
   "source": [
    "import csv \n",
    "\n",
    "links = []\n",
    "\n",
    "with open('links_wo_duplicates.csv') as csvfile:    \n",
    "\tcsvReader = csv.reader(csvfile)    \n",
    "\tfor row in csvReader:        \n",
    "\t\tlinks.append(row[0])\n",
    "\n",
    "links.pop(0)\t#remove first element which is the header\t   \n",
    "print(links)"
   ]
  },
  {
   "cell_type": "code",
   "execution_count": null,
   "metadata": {},
   "outputs": [],
   "source": [
    "print(links[:5])"
   ]
  },
  {
   "cell_type": "code",
   "execution_count": 86,
   "metadata": {},
   "outputs": [],
   "source": [
    "dta = pd.DataFrame(columns=['Movie Name', 'Audience Score', 'Tomatometer Score', 'Rating', 'Genre',\n",
    "                            'Original Language', 'Director', 'Producer', 'Writer', 'Release Date (Theaters)',\n",
    "                           'Release Date (Streaming)', 'Box Office (Gross USA)', 'Runtime', 'Distributor',\n",
    "                            'Sound Mix', 'Aspect Ratio', 'View the collection'])"
   ]
  },
  {
   "cell_type": "markdown",
   "metadata": {},
   "source": [
    "Scrapeing of the movies start here"
   ]
  },
  {
   "cell_type": "code",
   "execution_count": null,
   "metadata": {},
   "outputs": [],
   "source": [
    "from tqdm import tqdm\n",
    "\n",
    "for link in tqdm(links[:5], desc='loading....'):\n",
    "    driver.get(link)\n",
    "    info_we = driver.find_elements(By.XPATH,'//score-board')\n",
    "    movie_info = {'Movie Name':'','Audience Score':'','Tomatometer Score':''}\n",
    "    movie_info['Movie Name'] = info_we[0].text.split('\\n')[0]\n",
    "    movie_info['Audience Score'] = info_we[0].get_attribute('audiencescore')\n",
    "    movie_info['Tomatometer Score'] = info_we[0].get_attribute('tomatometerscore')\n",
    "    webelement_list_val = []\n",
    "    webelement_list_key = []\n",
    "    webelement_list_key = driver.find_elements(By.XPATH,'//div[@data-qa=\"movie-info-item-label\"]')\n",
    "    webelement_list_val = driver.find_elements(By.XPATH,'//div[@data-qa=\"movie-info-item-value\"]')\n",
    "    key_list, val_list = [],[]\n",
    "    for k,v in zip(webelement_list_key, webelement_list_val):\n",
    "        key_list.append(k.text.strip(':'))\n",
    "        val_list.append(v.text)\n",
    "    info = dict(zip(key_list,val_list))\n",
    "\n",
    "    total_info = {**movie_info,**info} \n",
    "    dta = dta.append(total_info, ignore_index=True)"
   ]
  },
  {
   "cell_type": "code",
   "execution_count": null,
   "metadata": {},
   "outputs": [],
   "source": [
    "dta.head()"
   ]
  },
  {
   "cell_type": "code",
   "execution_count": null,
   "metadata": {},
   "outputs": [],
   "source": [
    "dta.info()"
   ]
  },
  {
   "cell_type": "markdown",
   "metadata": {},
   "source": [
    "Error if one column is empty, if empty use -1  (later it will be replaced NULL)"
   ]
  },
  {
   "cell_type": "code",
   "execution_count": 103,
   "metadata": {},
   "outputs": [],
   "source": [
    "dta['Audience Score'].loc[dta['Audience Score'] == \"\"] = -1\n"
   ]
  },
  {
   "cell_type": "code",
   "execution_count": null,
   "metadata": {},
   "outputs": [],
   "source": [
    "dta[['Tomatometer Score','Audience Score']]=dta[['Tomatometer Score','Audience Score']].astype(int)\n",
    "print(dta[['Tomatometer Score','Audience Score']].dtypes)"
   ]
  },
  {
   "cell_type": "code",
   "execution_count": null,
   "metadata": {},
   "outputs": [],
   "source": [
    "dta['Release Date (Streaming)'] = pd.to_datetime(dta['Release Date (Streaming)'])\n",
    "print(dta['Release Date (Streaming)'].head())"
   ]
  },
  {
   "cell_type": "code",
   "execution_count": 106,
   "metadata": {},
   "outputs": [],
   "source": [
    "def func(x):\n",
    "    if type(x) != float:\n",
    "        li = x.split(' ')\n",
    "        li.remove(li[-1])\n",
    "        time = ' '.join(li).replace(',','')\n",
    "        return time\n",
    "dta['Release Date (Theaters)'] = dta['Release Date (Theaters)'].apply(func)\n",
    "dta['Release Date (Theaters)'] = pd.to_datetime(dta['Release Date (Theaters)'])"
   ]
  },
  {
   "cell_type": "code",
   "execution_count": null,
   "metadata": {},
   "outputs": [],
   "source": [
    "dta['Rating'].loc[dta['Rating'].isnull()] = 'None'"
   ]
  },
  {
   "cell_type": "code",
   "execution_count": 108,
   "metadata": {},
   "outputs": [],
   "source": [
    "dta['Rating'] = dta['Rating'].agg(lambda a : a.split(' ')[0])"
   ]
  },
  {
   "cell_type": "code",
   "execution_count": null,
   "metadata": {},
   "outputs": [],
   "source": [
    "dta.Rating.value_counts()"
   ]
  },
  {
   "cell_type": "code",
   "execution_count": null,
   "metadata": {},
   "outputs": [],
   "source": [
    "dta.head()"
   ]
  },
  {
   "cell_type": "code",
   "execution_count": 111,
   "metadata": {},
   "outputs": [],
   "source": [
    "dta.to_csv('output/Setsfile.csv', index=False)"
   ]
  }
 ],
 "metadata": {
  "kernelspec": {
   "display_name": "Python 3.9.7 64-bit",
   "language": "python",
   "name": "python3"
  },
  "language_info": {
   "codemirror_mode": {
    "name": "ipython",
    "version": 3
   },
   "file_extension": ".py",
   "mimetype": "text/x-python",
   "name": "python",
   "nbconvert_exporter": "python",
   "pygments_lexer": "ipython3",
   "version": "3.9.7"
  },
  "orig_nbformat": 4,
  "vscode": {
   "interpreter": {
    "hash": "aee8b7b246df8f9039afb4144a1f6fd8d2ca17a180786b69acc140d282b71a49"
   }
  }
 },
 "nbformat": 4,
 "nbformat_minor": 2
}
