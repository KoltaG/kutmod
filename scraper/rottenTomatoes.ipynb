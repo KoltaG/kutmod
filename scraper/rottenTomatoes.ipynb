{
 "cells": [
  {
   "cell_type": "markdown",
   "metadata": {},
   "source": [
    "Rotten tomatoes guide for top movies. "
   ]
  },
  {
   "cell_type": "code",
   "execution_count": 41,
   "metadata": {},
   "outputs": [],
   "source": [
    "import pandas as pd\n",
    "from selenium import webdriver\n",
    "from webdriver_manager.chrome import ChromeDriverManager\n",
    "from selenium.webdriver.common.by import By\n",
    "import time"
   ]
  },
  {
   "cell_type": "code",
   "execution_count": 46,
   "metadata": {},
   "outputs": [
    {
     "name": "stderr",
     "output_type": "stream",
     "text": [
      "/var/folders/r6/0f88gc2d4n72g44xyxkb5bmr0000gn/T/ipykernel_73268/2161948423.py:2: DeprecationWarning: executable_path has been deprecated, please pass in a Service object\n",
      "  driver = webdriver.Chrome('/Applications/chromedriver')\n"
     ]
    }
   ],
   "source": [
    "#driver = webdriver.Chrome(ChromeDriverManager().install())\n",
    "driver = webdriver.Chrome('/Applications/chromedriver')"
   ]
  },
  {
   "cell_type": "markdown",
   "metadata": {},
   "source": [
    "TODO: paginate."
   ]
  },
  {
   "cell_type": "code",
   "execution_count": 47,
   "metadata": {},
   "outputs": [],
   "source": [
    "driver.get('https://www.rottentomatoes.com/browse/movies_at_home/critics:certified_fresh?page=5')"
   ]
  },
  {
   "cell_type": "code",
   "execution_count": 48,
   "metadata": {},
   "outputs": [
    {
     "ename": "KeyboardInterrupt",
     "evalue": "",
     "output_type": "error",
     "traceback": [
      "\u001b[0;31m---------------------------------------------------------------------------\u001b[0m",
      "\u001b[0;31mKeyboardInterrupt\u001b[0m                         Traceback (most recent call last)",
      "\u001b[0;32m/var/folders/r6/0f88gc2d4n72g44xyxkb5bmr0000gn/T/ipykernel_73268/535001434.py\u001b[0m in \u001b[0;36m<module>\u001b[0;34m\u001b[0m\n\u001b[1;32m      1\u001b[0m \u001b[0;31m## click button paginate manually for the movie links.\u001b[0m\u001b[0;34m\u001b[0m\u001b[0;34m\u001b[0m\u001b[0m\n\u001b[1;32m      2\u001b[0m \u001b[0;32mfor\u001b[0m \u001b[0mi\u001b[0m \u001b[0;32min\u001b[0m \u001b[0mrange\u001b[0m\u001b[0;34m(\u001b[0m\u001b[0;36m1\u001b[0m\u001b[0;34m,\u001b[0m \u001b[0;36m200\u001b[0m\u001b[0;34m)\u001b[0m\u001b[0;34m:\u001b[0m\u001b[0;34m\u001b[0m\u001b[0;34m\u001b[0m\u001b[0m\n\u001b[0;32m----> 3\u001b[0;31m     \u001b[0mtime\u001b[0m\u001b[0;34m.\u001b[0m\u001b[0msleep\u001b[0m\u001b[0;34m(\u001b[0m\u001b[0;36m7\u001b[0m\u001b[0;34m)\u001b[0m\u001b[0;34m\u001b[0m\u001b[0;34m\u001b[0m\u001b[0m\n\u001b[0m\u001b[1;32m      4\u001b[0m     \u001b[0;32mtry\u001b[0m\u001b[0;34m:\u001b[0m\u001b[0;34m\u001b[0m\u001b[0;34m\u001b[0m\u001b[0m\n\u001b[1;32m      5\u001b[0m         \u001b[0mpag\u001b[0m \u001b[0;34m=\u001b[0m \u001b[0mdriver\u001b[0m\u001b[0;34m.\u001b[0m\u001b[0mfind_element\u001b[0m\u001b[0;34m(\u001b[0m\u001b[0mBy\u001b[0m\u001b[0;34m.\u001b[0m\u001b[0mXPATH\u001b[0m\u001b[0;34m,\u001b[0m\u001b[0;34m'//div[@class=\"discovery__actions\"]//button'\u001b[0m\u001b[0;34m)\u001b[0m\u001b[0;34m\u001b[0m\u001b[0;34m\u001b[0m\u001b[0m\n",
      "\u001b[0;31mKeyboardInterrupt\u001b[0m: "
     ]
    }
   ],
   "source": [
    "## click button paginate manually for the movie links.\n",
    "for i in range(1, 200):  \n",
    "    time.sleep(7)\n",
    "    try:\n",
    "        pag = driver.find_element(By.XPATH,'//div[@class=\"discovery__actions\"]//button')\n",
    "        driver.execute_script(\"arguments[0].click();\", pag)\n",
    "    except:\n",
    "        break;       \n",
    "\n",
    "movie_we = driver.find_elements(By.XPATH, '//a[@class = \"js-tile-link\"]')   \n",
    " \n",
    "links = []\n",
    "for i in range(len(movie_we)):\n",
    "    links.append(movie_we[i].get_attribute('href'))\n",
    "\n",
    "pd.DataFrame(links).to_csv('links.csv') # save the links to a csv file"
   ]
  },
  {
   "cell_type": "code",
   "execution_count": null,
   "metadata": {},
   "outputs": [],
   "source": [
    "print(links)"
   ]
  },
  {
   "cell_type": "code",
   "execution_count": 30,
   "metadata": {},
   "outputs": [],
   "source": [
    "dta = pd.DataFrame(columns=['Movie Name', 'Audience Score', 'Tomatometer Score', 'Rating', 'Genre',\n",
    "                            'Original Language', 'Director', 'Producer', 'Writer', 'Release Date (Theaters)',\n",
    "                           'Release Date (Streaming)', 'Box Office (Gross USA)', 'Runtime', 'Distributor',\n",
    "                            'Sound Mix', 'Aspect Ratio', 'View the collection'])"
   ]
  },
  {
   "cell_type": "markdown",
   "metadata": {},
   "source": [
    "Scrape all in the next. \n",
    "only the first 5 until its good\n",
    "we will get the reviews later, with the same links"
   ]
  },
  {
   "cell_type": "code",
   "execution_count": 31,
   "metadata": {},
   "outputs": [
    {
     "name": "stderr",
     "output_type": "stream",
     "text": [
      "loading....:   0%|          | 0/5 [00:00<?, ?it/s]/var/folders/r6/0f88gc2d4n72g44xyxkb5bmr0000gn/T/ipykernel_73268/152604251.py:63: FutureWarning: The frame.append method is deprecated and will be removed from pandas in a future version. Use pandas.concat instead.\n",
      "  dta = dta.append(total_info, ignore_index=True)\n",
      "loading....:  20%|██        | 1/5 [00:11<00:46, 11.74s/it]/var/folders/r6/0f88gc2d4n72g44xyxkb5bmr0000gn/T/ipykernel_73268/152604251.py:63: FutureWarning: The frame.append method is deprecated and will be removed from pandas in a future version. Use pandas.concat instead.\n",
      "  dta = dta.append(total_info, ignore_index=True)\n",
      "loading....:  40%|████      | 2/5 [00:13<00:17,  5.90s/it]/var/folders/r6/0f88gc2d4n72g44xyxkb5bmr0000gn/T/ipykernel_73268/152604251.py:63: FutureWarning: The frame.append method is deprecated and will be removed from pandas in a future version. Use pandas.concat instead.\n",
      "  dta = dta.append(total_info, ignore_index=True)\n",
      "loading....:  60%|██████    | 3/5 [00:15<00:08,  4.02s/it]/var/folders/r6/0f88gc2d4n72g44xyxkb5bmr0000gn/T/ipykernel_73268/152604251.py:63: FutureWarning: The frame.append method is deprecated and will be removed from pandas in a future version. Use pandas.concat instead.\n",
      "  dta = dta.append(total_info, ignore_index=True)\n",
      "loading....:  80%|████████  | 4/5 [00:17<00:03,  3.44s/it]/var/folders/r6/0f88gc2d4n72g44xyxkb5bmr0000gn/T/ipykernel_73268/152604251.py:63: FutureWarning: The frame.append method is deprecated and will be removed from pandas in a future version. Use pandas.concat instead.\n",
      "  dta = dta.append(total_info, ignore_index=True)\n",
      "loading....: 100%|██████████| 5/5 [00:19<00:00,  4.00s/it]\n"
     ]
    }
   ],
   "source": [
    "from tqdm import tqdm\n",
    "\n",
    "for link in tqdm(links[:5], desc='loading....'):\n",
    "    driver.get(link)\n",
    "    info_we = driver.find_elements(By.XPATH,'//score-board')\n",
    "    movie_info = {'Movie Name':'','Audience Score':'','Tomatometer Score':''}\n",
    "    movie_info['Movie Name'] = info_we[0].text.split('\\n')[0]\n",
    "    movie_info['Audience Score'] = info_we[0].get_attribute('audiencescore')\n",
    "    movie_info['Tomatometer Score'] = info_we[0].get_attribute('tomatometerscore')\n",
    "    webelement_list_val = []\n",
    "    webelement_list_key = []\n",
    "    webelement_list_key = driver.find_elements(By.XPATH,'//div[@data-qa=\"movie-info-item-label\"]')\n",
    "    webelement_list_val = driver.find_elements(By.XPATH,'//div[@data-qa=\"movie-info-item-value\"]')\n",
    "    key_list, val_list = [],[]\n",
    "    for k,v in zip(webelement_list_key, webelement_list_val):\n",
    "        key_list.append(k.text.strip(':'))\n",
    "        val_list.append(v.text)\n",
    "    info = dict(zip(key_list,val_list))\n",
    "\n",
    "    total_info = {**movie_info,**info} \n",
    "    dta = dta.append(total_info, ignore_index=True)"
   ]
  },
  {
   "cell_type": "code",
   "execution_count": 32,
   "metadata": {},
   "outputs": [
    {
     "data": {
      "text/html": [
       "<div>\n",
       "<style scoped>\n",
       "    .dataframe tbody tr th:only-of-type {\n",
       "        vertical-align: middle;\n",
       "    }\n",
       "\n",
       "    .dataframe tbody tr th {\n",
       "        vertical-align: top;\n",
       "    }\n",
       "\n",
       "    .dataframe thead th {\n",
       "        text-align: right;\n",
       "    }\n",
       "</style>\n",
       "<table border=\"1\" class=\"dataframe\">\n",
       "  <thead>\n",
       "    <tr style=\"text-align: right;\">\n",
       "      <th></th>\n",
       "      <th>Movie Name</th>\n",
       "      <th>Audience Score</th>\n",
       "      <th>Tomatometer Score</th>\n",
       "      <th>Rating</th>\n",
       "      <th>Genre</th>\n",
       "      <th>Original Language</th>\n",
       "      <th>Director</th>\n",
       "      <th>Producer</th>\n",
       "      <th>Writer</th>\n",
       "      <th>Release Date (Theaters)</th>\n",
       "      <th>Release Date (Streaming)</th>\n",
       "      <th>Box Office (Gross USA)</th>\n",
       "      <th>Runtime</th>\n",
       "      <th>Distributor</th>\n",
       "      <th>Sound Mix</th>\n",
       "      <th>Aspect Ratio</th>\n",
       "      <th>View the collection</th>\n",
       "    </tr>\n",
       "  </thead>\n",
       "  <tbody>\n",
       "    <tr>\n",
       "      <th>0</th>\n",
       "      <td>GUILLERMO DEL TORO'S PINOCCHIO</td>\n",
       "      <td>84</td>\n",
       "      <td>97</td>\n",
       "      <td>PG (Peril|Dark Thematic Material|Brief Smoking...</td>\n",
       "      <td>Musical, Fantasy, Animation</td>\n",
       "      <td>English</td>\n",
       "      <td>Guillermo del Toro, Mark Gustafson</td>\n",
       "      <td>Alexander Bulkley, Corey Campodonico, Guillerm...</td>\n",
       "      <td>Guillermo del Toro, Patrick McHale</td>\n",
       "      <td>Nov 9, 2022  Limited</td>\n",
       "      <td>Dec 9, 2022</td>\n",
       "      <td>NaN</td>\n",
       "      <td>1h 57m</td>\n",
       "      <td>Netflix</td>\n",
       "      <td>Dolby Atmos, Dolby Digital</td>\n",
       "      <td>Flat (1.85:1)</td>\n",
       "      <td>NaN</td>\n",
       "    </tr>\n",
       "    <tr>\n",
       "      <th>1</th>\n",
       "      <td>THE GUARDIANS OF THE GALAXY HOLIDAY SPECIAL</td>\n",
       "      <td>82</td>\n",
       "      <td>92</td>\n",
       "      <td>NaN</td>\n",
       "      <td>Action, Adventure, Comedy, Holiday</td>\n",
       "      <td>English</td>\n",
       "      <td>James Gunn</td>\n",
       "      <td>NaN</td>\n",
       "      <td>James Gunn</td>\n",
       "      <td>NaN</td>\n",
       "      <td>Nov 25, 2022</td>\n",
       "      <td>NaN</td>\n",
       "      <td>44m</td>\n",
       "      <td>NaN</td>\n",
       "      <td>NaN</td>\n",
       "      <td>NaN</td>\n",
       "      <td>Marvel Cinematic Universe</td>\n",
       "    </tr>\n",
       "    <tr>\n",
       "      <th>2</th>\n",
       "      <td>LADY CHATTERLEY'S LOVER</td>\n",
       "      <td>82</td>\n",
       "      <td>87</td>\n",
       "      <td>R (Graphic Nudity|Strong Sexual Content|Some L...</td>\n",
       "      <td>Romance, Drama</td>\n",
       "      <td>English</td>\n",
       "      <td>Laure de Clermont-Tonnerre</td>\n",
       "      <td>Graham Broadbent, Peter Czernin, Elizabeth Gab...</td>\n",
       "      <td>NaN</td>\n",
       "      <td>Nov 23, 2022  Limited</td>\n",
       "      <td>Dec 2, 2022</td>\n",
       "      <td>NaN</td>\n",
       "      <td>2h 6m</td>\n",
       "      <td>Netflix</td>\n",
       "      <td>Dolby Digital</td>\n",
       "      <td>NaN</td>\n",
       "      <td>NaN</td>\n",
       "    </tr>\n",
       "    <tr>\n",
       "      <th>3</th>\n",
       "      <td>THE WONDER</td>\n",
       "      <td>73</td>\n",
       "      <td>87</td>\n",
       "      <td>R</td>\n",
       "      <td>Mystery &amp; Thriller, Drama</td>\n",
       "      <td>English (United Kingdom)</td>\n",
       "      <td>Sebastián Lelio</td>\n",
       "      <td>Tessa Ross, Juliette Howell, Ed Guiney, Andrew...</td>\n",
       "      <td>Alice Birch, Sebastián Lelio</td>\n",
       "      <td>Nov 2, 2022  Limited</td>\n",
       "      <td>Nov 16, 2022</td>\n",
       "      <td>NaN</td>\n",
       "      <td>1h 48m</td>\n",
       "      <td>Netflix</td>\n",
       "      <td>Dolby Digital</td>\n",
       "      <td>NaN</td>\n",
       "      <td>NaN</td>\n",
       "    </tr>\n",
       "    <tr>\n",
       "      <th>4</th>\n",
       "      <td>SOMETHING IN THE DIRT</td>\n",
       "      <td>47</td>\n",
       "      <td>90</td>\n",
       "      <td>R (A Brief Violent Image|Language)</td>\n",
       "      <td>Sci-Fi, Comedy, Horror</td>\n",
       "      <td>English</td>\n",
       "      <td>Justin Benson, Aaron Moorhead</td>\n",
       "      <td>David Lawson Jr., Aaron Moorhead, Justin Benson</td>\n",
       "      <td>Justin Benson</td>\n",
       "      <td>Nov 4, 2022  Limited</td>\n",
       "      <td>Nov 22, 2022</td>\n",
       "      <td>NaN</td>\n",
       "      <td>1h 56m</td>\n",
       "      <td>XYZ Films</td>\n",
       "      <td>NaN</td>\n",
       "      <td>NaN</td>\n",
       "      <td>NaN</td>\n",
       "    </tr>\n",
       "  </tbody>\n",
       "</table>\n",
       "</div>"
      ],
      "text/plain": [
       "                                    Movie Name Audience Score  \\\n",
       "0               GUILLERMO DEL TORO'S PINOCCHIO             84   \n",
       "1  THE GUARDIANS OF THE GALAXY HOLIDAY SPECIAL             82   \n",
       "2                      LADY CHATTERLEY'S LOVER             82   \n",
       "3                                   THE WONDER             73   \n",
       "4                        SOMETHING IN THE DIRT             47   \n",
       "\n",
       "  Tomatometer Score                                             Rating  \\\n",
       "0                97  PG (Peril|Dark Thematic Material|Brief Smoking...   \n",
       "1                92                                                NaN   \n",
       "2                87  R (Graphic Nudity|Strong Sexual Content|Some L...   \n",
       "3                87                                                  R   \n",
       "4                90                 R (A Brief Violent Image|Language)   \n",
       "\n",
       "                                Genre         Original Language  \\\n",
       "0         Musical, Fantasy, Animation                   English   \n",
       "1  Action, Adventure, Comedy, Holiday                   English   \n",
       "2                      Romance, Drama                   English   \n",
       "3           Mystery & Thriller, Drama  English (United Kingdom)   \n",
       "4              Sci-Fi, Comedy, Horror                   English   \n",
       "\n",
       "                             Director  \\\n",
       "0  Guillermo del Toro, Mark Gustafson   \n",
       "1                          James Gunn   \n",
       "2          Laure de Clermont-Tonnerre   \n",
       "3                     Sebastián Lelio   \n",
       "4       Justin Benson, Aaron Moorhead   \n",
       "\n",
       "                                            Producer  \\\n",
       "0  Alexander Bulkley, Corey Campodonico, Guillerm...   \n",
       "1                                                NaN   \n",
       "2  Graham Broadbent, Peter Czernin, Elizabeth Gab...   \n",
       "3  Tessa Ross, Juliette Howell, Ed Guiney, Andrew...   \n",
       "4    David Lawson Jr., Aaron Moorhead, Justin Benson   \n",
       "\n",
       "                               Writer Release Date (Theaters)  \\\n",
       "0  Guillermo del Toro, Patrick McHale    Nov 9, 2022  Limited   \n",
       "1                          James Gunn                     NaN   \n",
       "2                                 NaN   Nov 23, 2022  Limited   \n",
       "3        Alice Birch, Sebastián Lelio    Nov 2, 2022  Limited   \n",
       "4                       Justin Benson    Nov 4, 2022  Limited   \n",
       "\n",
       "  Release Date (Streaming) Box Office (Gross USA) Runtime Distributor  \\\n",
       "0              Dec 9, 2022                    NaN  1h 57m     Netflix   \n",
       "1             Nov 25, 2022                    NaN     44m         NaN   \n",
       "2              Dec 2, 2022                    NaN   2h 6m     Netflix   \n",
       "3             Nov 16, 2022                    NaN  1h 48m     Netflix   \n",
       "4             Nov 22, 2022                    NaN  1h 56m   XYZ Films   \n",
       "\n",
       "                    Sound Mix   Aspect Ratio        View the collection  \n",
       "0  Dolby Atmos, Dolby Digital  Flat (1.85:1)                        NaN  \n",
       "1                         NaN            NaN  Marvel Cinematic Universe  \n",
       "2               Dolby Digital            NaN                        NaN  \n",
       "3               Dolby Digital            NaN                        NaN  \n",
       "4                         NaN            NaN                        NaN  "
      ]
     },
     "execution_count": 32,
     "metadata": {},
     "output_type": "execute_result"
    }
   ],
   "source": [
    "dta.head()"
   ]
  },
  {
   "cell_type": "code",
   "execution_count": 102,
   "metadata": {},
   "outputs": [
    {
     "name": "stdout",
     "output_type": "stream",
     "text": [
      "<class 'pandas.core.frame.DataFrame'>\n",
      "RangeIndex: 1080 entries, 0 to 1079\n",
      "Data columns (total 17 columns):\n",
      " #   Column                    Non-Null Count  Dtype \n",
      "---  ------                    --------------  ----- \n",
      " 0   Movie Name                1080 non-null   object\n",
      " 1   Audience Score            1080 non-null   object\n",
      " 2   Tomatometer Score         1080 non-null   object\n",
      " 3   Rating                    933 non-null    object\n",
      " 4   Genre                     1080 non-null   object\n",
      " 5   Original Language         1074 non-null   object\n",
      " 6   Director                  1080 non-null   object\n",
      " 7   Producer                  1062 non-null   object\n",
      " 8   Writer                    1056 non-null   object\n",
      " 9   Release Date (Theaters)   941 non-null    object\n",
      " 10  Release Date (Streaming)  1080 non-null   object\n",
      " 11  Box Office (Gross USA)    693 non-null    object\n",
      " 12  Runtime                   1080 non-null   object\n",
      " 13  Distributor               918 non-null    object\n",
      " 14  Sound Mix                 715 non-null    object\n",
      " 15  Aspect Ratio              618 non-null    object\n",
      " 16  View the collection       172 non-null    object\n",
      "dtypes: object(17)\n",
      "memory usage: 143.6+ KB\n"
     ]
    }
   ],
   "source": [
    "dta.info()"
   ]
  },
  {
   "cell_type": "markdown",
   "metadata": {},
   "source": [
    "Error if one column is empty, if empty use -1  (later it will be replaced NULL)"
   ]
  },
  {
   "cell_type": "code",
   "execution_count": 103,
   "metadata": {},
   "outputs": [],
   "source": [
    "dta['Audience Score'].loc[dta['Audience Score'] == \"\"] = -1\n"
   ]
  },
  {
   "cell_type": "code",
   "execution_count": 104,
   "metadata": {},
   "outputs": [
    {
     "name": "stdout",
     "output_type": "stream",
     "text": [
      "Tomatometer Score    int64\n",
      "Audience Score       int64\n",
      "dtype: object\n"
     ]
    }
   ],
   "source": [
    "dta[['Tomatometer Score','Audience Score']]=dta[['Tomatometer Score','Audience Score']].astype(int)\n",
    "print(dta[['Tomatometer Score','Audience Score']].dtypes)"
   ]
  },
  {
   "cell_type": "code",
   "execution_count": 105,
   "metadata": {},
   "outputs": [
    {
     "name": "stdout",
     "output_type": "stream",
     "text": [
      "0   2022-12-09\n",
      "1   2022-11-25\n",
      "2   2022-12-02\n",
      "3   2022-11-16\n",
      "4   2022-11-22\n",
      "Name: Release Date (Streaming), dtype: datetime64[ns]\n"
     ]
    }
   ],
   "source": [
    "dta['Release Date (Streaming)'] = pd.to_datetime(dta['Release Date (Streaming)'])\n",
    "print(dta['Release Date (Streaming)'].head())"
   ]
  },
  {
   "cell_type": "code",
   "execution_count": 106,
   "metadata": {},
   "outputs": [],
   "source": [
    "def func(x):\n",
    "    if type(x) != float:\n",
    "        li = x.split(' ')\n",
    "        li.remove(li[-1])\n",
    "        time = ' '.join(li).replace(',','')\n",
    "        return time\n",
    "dta['Release Date (Theaters)'] = dta['Release Date (Theaters)'].apply(func)\n",
    "dta['Release Date (Theaters)'] = pd.to_datetime(dta['Release Date (Theaters)'])"
   ]
  },
  {
   "cell_type": "code",
   "execution_count": 107,
   "metadata": {},
   "outputs": [
    {
     "name": "stderr",
     "output_type": "stream",
     "text": [
      "/var/folders/r6/0f88gc2d4n72g44xyxkb5bmr0000gn/T/ipykernel_4908/711523957.py:1: SettingWithCopyWarning: \n",
      "A value is trying to be set on a copy of a slice from a DataFrame\n",
      "\n",
      "See the caveats in the documentation: https://pandas.pydata.org/pandas-docs/stable/user_guide/indexing.html#returning-a-view-versus-a-copy\n",
      "  dta['Rating'].loc[dta['Rating'].isnull()] = 'None'\n"
     ]
    }
   ],
   "source": [
    "dta['Rating'].loc[dta['Rating'].isnull()] = 'None'"
   ]
  },
  {
   "cell_type": "code",
   "execution_count": 108,
   "metadata": {},
   "outputs": [],
   "source": [
    "dta['Rating'] = dta['Rating'].agg(lambda a : a.split(' ')[0])"
   ]
  },
  {
   "cell_type": "code",
   "execution_count": 109,
   "metadata": {},
   "outputs": [
    {
     "data": {
      "text/plain": [
       "R        480\n",
       "PG-13    271\n",
       "PG       182\n",
       "None     147\n",
       "Name: Rating, dtype: int64"
      ]
     },
     "execution_count": 109,
     "metadata": {},
     "output_type": "execute_result"
    }
   ],
   "source": [
    "dta.Rating.value_counts()"
   ]
  },
  {
   "cell_type": "code",
   "execution_count": 110,
   "metadata": {},
   "outputs": [
    {
     "data": {
      "text/html": [
       "<div>\n",
       "<style scoped>\n",
       "    .dataframe tbody tr th:only-of-type {\n",
       "        vertical-align: middle;\n",
       "    }\n",
       "\n",
       "    .dataframe tbody tr th {\n",
       "        vertical-align: top;\n",
       "    }\n",
       "\n",
       "    .dataframe thead th {\n",
       "        text-align: right;\n",
       "    }\n",
       "</style>\n",
       "<table border=\"1\" class=\"dataframe\">\n",
       "  <thead>\n",
       "    <tr style=\"text-align: right;\">\n",
       "      <th></th>\n",
       "      <th>Movie Name</th>\n",
       "      <th>Audience Score</th>\n",
       "      <th>Tomatometer Score</th>\n",
       "      <th>Rating</th>\n",
       "      <th>Genre</th>\n",
       "      <th>Original Language</th>\n",
       "      <th>Director</th>\n",
       "      <th>Producer</th>\n",
       "      <th>Writer</th>\n",
       "      <th>Release Date (Theaters)</th>\n",
       "      <th>Release Date (Streaming)</th>\n",
       "      <th>Box Office (Gross USA)</th>\n",
       "      <th>Runtime</th>\n",
       "      <th>Distributor</th>\n",
       "      <th>Sound Mix</th>\n",
       "      <th>Aspect Ratio</th>\n",
       "      <th>View the collection</th>\n",
       "    </tr>\n",
       "  </thead>\n",
       "  <tbody>\n",
       "    <tr>\n",
       "      <th>0</th>\n",
       "      <td>GUILLERMO DEL TORO'S PINOCCHIO\\nPG 2022, Music...</td>\n",
       "      <td>84</td>\n",
       "      <td>97</td>\n",
       "      <td>PG</td>\n",
       "      <td>Musical, Fantasy, Animation</td>\n",
       "      <td>English</td>\n",
       "      <td>Guillermo del Toro, Mark Gustafson</td>\n",
       "      <td>Alexander Bulkley, Corey Campodonico, Guillerm...</td>\n",
       "      <td>Guillermo del Toro, Patrick McHale</td>\n",
       "      <td>2022-11-09</td>\n",
       "      <td>2022-12-09</td>\n",
       "      <td>NaN</td>\n",
       "      <td>1h 57m</td>\n",
       "      <td>Netflix</td>\n",
       "      <td>Dolby Atmos, Dolby Digital</td>\n",
       "      <td>Flat (1.85:1)</td>\n",
       "      <td>NaN</td>\n",
       "    </tr>\n",
       "    <tr>\n",
       "      <th>1</th>\n",
       "      <td>THE GUARDIANS OF THE GALAXY HOLIDAY SPECIAL\\n2...</td>\n",
       "      <td>82</td>\n",
       "      <td>92</td>\n",
       "      <td>None</td>\n",
       "      <td>Action, Adventure, Comedy, Holiday</td>\n",
       "      <td>English</td>\n",
       "      <td>James Gunn</td>\n",
       "      <td>NaN</td>\n",
       "      <td>James Gunn</td>\n",
       "      <td>NaT</td>\n",
       "      <td>2022-11-25</td>\n",
       "      <td>NaN</td>\n",
       "      <td>44m</td>\n",
       "      <td>NaN</td>\n",
       "      <td>NaN</td>\n",
       "      <td>NaN</td>\n",
       "      <td>Marvel Cinematic Universe</td>\n",
       "    </tr>\n",
       "    <tr>\n",
       "      <th>2</th>\n",
       "      <td>LADY CHATTERLEY'S LOVER\\nR 2022, Roma</td>\n",
       "      <td>86</td>\n",
       "      <td>86</td>\n",
       "      <td>R</td>\n",
       "      <td>Romance, Drama</td>\n",
       "      <td>English</td>\n",
       "      <td>Laure de Clermont-Tonnerre</td>\n",
       "      <td>Graham Broadbent, Peter Czernin, Elizabeth Gab...</td>\n",
       "      <td>NaN</td>\n",
       "      <td>2022-11-23</td>\n",
       "      <td>2022-12-02</td>\n",
       "      <td>NaN</td>\n",
       "      <td>2h 6m</td>\n",
       "      <td>Netflix</td>\n",
       "      <td>Dolby Digital</td>\n",
       "      <td>NaN</td>\n",
       "      <td>NaN</td>\n",
       "    </tr>\n",
       "    <tr>\n",
       "      <th>3</th>\n",
       "      <td>THE WONDER\\nR 2022, Mystery &amp; thriller/Drama, ...</td>\n",
       "      <td>73</td>\n",
       "      <td>87</td>\n",
       "      <td>R</td>\n",
       "      <td>Mystery &amp; Thriller, Drama</td>\n",
       "      <td>English (United Kingdom)</td>\n",
       "      <td>Sebastián Lelio</td>\n",
       "      <td>Tessa Ross, Juliette Howell, Ed Guiney, Andrew...</td>\n",
       "      <td>Alice Birch, Sebastián Lelio</td>\n",
       "      <td>2022-11-02</td>\n",
       "      <td>2022-11-16</td>\n",
       "      <td>NaN</td>\n",
       "      <td>1h 48m</td>\n",
       "      <td>Netflix</td>\n",
       "      <td>Dolby Digital</td>\n",
       "      <td>NaN</td>\n",
       "      <td>NaN</td>\n",
       "    </tr>\n",
       "    <tr>\n",
       "      <th>4</th>\n",
       "      <td>SOMETHING IN THE DIRT\\nR 2022, Sci-fi/Comedy, ...</td>\n",
       "      <td>47</td>\n",
       "      <td>90</td>\n",
       "      <td>R</td>\n",
       "      <td>Sci-Fi, Comedy, Horror</td>\n",
       "      <td>English</td>\n",
       "      <td>Justin Benson, Aaron Moorhead</td>\n",
       "      <td>David Lawson Jr., Aaron Moorhead, Justin Benson</td>\n",
       "      <td>Justin Benson</td>\n",
       "      <td>2022-11-04</td>\n",
       "      <td>2022-11-22</td>\n",
       "      <td>NaN</td>\n",
       "      <td>1h 56m</td>\n",
       "      <td>XYZ Films</td>\n",
       "      <td>NaN</td>\n",
       "      <td>NaN</td>\n",
       "      <td>NaN</td>\n",
       "    </tr>\n",
       "  </tbody>\n",
       "</table>\n",
       "</div>"
      ],
      "text/plain": [
       "                                          Movie Name  Audience Score  \\\n",
       "0  GUILLERMO DEL TORO'S PINOCCHIO\\nPG 2022, Music...              84   \n",
       "1  THE GUARDIANS OF THE GALAXY HOLIDAY SPECIAL\\n2...              82   \n",
       "2              LADY CHATTERLEY'S LOVER\\nR 2022, Roma              86   \n",
       "3  THE WONDER\\nR 2022, Mystery & thriller/Drama, ...              73   \n",
       "4  SOMETHING IN THE DIRT\\nR 2022, Sci-fi/Comedy, ...              47   \n",
       "\n",
       "   Tomatometer Score Rating                               Genre  \\\n",
       "0                 97     PG         Musical, Fantasy, Animation   \n",
       "1                 92   None  Action, Adventure, Comedy, Holiday   \n",
       "2                 86      R                      Romance, Drama   \n",
       "3                 87      R           Mystery & Thriller, Drama   \n",
       "4                 90      R              Sci-Fi, Comedy, Horror   \n",
       "\n",
       "          Original Language                            Director  \\\n",
       "0                   English  Guillermo del Toro, Mark Gustafson   \n",
       "1                   English                          James Gunn   \n",
       "2                   English          Laure de Clermont-Tonnerre   \n",
       "3  English (United Kingdom)                     Sebastián Lelio   \n",
       "4                   English       Justin Benson, Aaron Moorhead   \n",
       "\n",
       "                                            Producer  \\\n",
       "0  Alexander Bulkley, Corey Campodonico, Guillerm...   \n",
       "1                                                NaN   \n",
       "2  Graham Broadbent, Peter Czernin, Elizabeth Gab...   \n",
       "3  Tessa Ross, Juliette Howell, Ed Guiney, Andrew...   \n",
       "4    David Lawson Jr., Aaron Moorhead, Justin Benson   \n",
       "\n",
       "                               Writer Release Date (Theaters)  \\\n",
       "0  Guillermo del Toro, Patrick McHale              2022-11-09   \n",
       "1                          James Gunn                     NaT   \n",
       "2                                 NaN              2022-11-23   \n",
       "3        Alice Birch, Sebastián Lelio              2022-11-02   \n",
       "4                       Justin Benson              2022-11-04   \n",
       "\n",
       "  Release Date (Streaming) Box Office (Gross USA) Runtime Distributor  \\\n",
       "0               2022-12-09                    NaN  1h 57m     Netflix   \n",
       "1               2022-11-25                    NaN     44m         NaN   \n",
       "2               2022-12-02                    NaN   2h 6m     Netflix   \n",
       "3               2022-11-16                    NaN  1h 48m     Netflix   \n",
       "4               2022-11-22                    NaN  1h 56m   XYZ Films   \n",
       "\n",
       "                    Sound Mix   Aspect Ratio        View the collection  \n",
       "0  Dolby Atmos, Dolby Digital  Flat (1.85:1)                        NaN  \n",
       "1                         NaN            NaN  Marvel Cinematic Universe  \n",
       "2               Dolby Digital            NaN                        NaN  \n",
       "3               Dolby Digital            NaN                        NaN  \n",
       "4                         NaN            NaN                        NaN  "
      ]
     },
     "execution_count": 110,
     "metadata": {},
     "output_type": "execute_result"
    }
   ],
   "source": [
    "dta.head()"
   ]
  },
  {
   "cell_type": "code",
   "execution_count": 111,
   "metadata": {},
   "outputs": [],
   "source": [
    "dta.to_csv('output/Setsfile.csv', index=False)"
   ]
  }
 ],
 "metadata": {
  "kernelspec": {
   "display_name": "Python 3.9.7 64-bit",
   "language": "python",
   "name": "python3"
  },
  "language_info": {
   "codemirror_mode": {
    "name": "ipython",
    "version": 3
   },
   "file_extension": ".py",
   "mimetype": "text/x-python",
   "name": "python",
   "nbconvert_exporter": "python",
   "pygments_lexer": "ipython3",
   "version": "3.9.7"
  },
  "orig_nbformat": 4,
  "vscode": {
   "interpreter": {
    "hash": "aee8b7b246df8f9039afb4144a1f6fd8d2ca17a180786b69acc140d282b71a49"
   }
  }
 },
 "nbformat": 4,
 "nbformat_minor": 2
}
