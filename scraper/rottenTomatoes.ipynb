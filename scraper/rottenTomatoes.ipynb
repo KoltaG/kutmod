{
 "cells": [
  {
   "cell_type": "markdown",
   "metadata": {},
   "source": [
    "Rotten tomatoes guide for top movies. "
   ]
  },
  {
   "cell_type": "code",
   "execution_count": 1,
   "metadata": {},
   "outputs": [],
   "source": [
    "import pandas as pd\n",
    "from selenium import webdriver\n",
    "from webdriver_manager.chrome import ChromeDriverManager\n",
    "from selenium.webdriver.common.by import By"
   ]
  },
  {
   "cell_type": "code",
   "execution_count": 13,
   "metadata": {},
   "outputs": [
    {
     "name": "stderr",
     "output_type": "stream",
     "text": [
      "/var/folders/r6/0f88gc2d4n72g44xyxkb5bmr0000gn/T/ipykernel_4908/2161948423.py:2: DeprecationWarning: executable_path has been deprecated, please pass in a Service object\n",
      "  driver = webdriver.Chrome('/Applications/chromedriver')\n"
     ]
    }
   ],
   "source": [
    "#driver = webdriver.Chrome(ChromeDriverManager().install())\n",
    "driver = webdriver.Chrome('/Applications/chromedriver')"
   ]
  },
  {
   "cell_type": "code",
   "execution_count": 14,
   "metadata": {},
   "outputs": [],
   "source": [
    "driver.get('https://www.rottentomatoes.com/top/bestofrt/')"
   ]
  },
  {
   "cell_type": "code",
   "execution_count": 8,
   "metadata": {},
   "outputs": [],
   "source": [
    "from PIL import Image\n",
    "driver.save_screenshot('/Users/koltaibalazs/Downloads/foo.png')\n",
    "screenshot = Image.open('/Users/koltaibalazs/Downloads/foo.png')\n",
    "screenshot.show()"
   ]
  },
  {
   "cell_type": "code",
   "execution_count": 15,
   "metadata": {},
   "outputs": [],
   "source": [
    "movie_we = driver.find_elements(By.XPATH, '//a[@class = \"js-tile-link\"]')"
   ]
  },
  {
   "cell_type": "code",
   "execution_count": 16,
   "metadata": {},
   "outputs": [
    {
     "data": {
      "text/plain": [
       "['https://www.rottentomatoes.com/m/guillermo_del_toros_pinocchio',\n",
       " 'https://www.rottentomatoes.com/m/the_guardians_of_the_galaxy_holiday_special',\n",
       " 'https://www.rottentomatoes.com/m/the_wonder_2022',\n",
       " 'https://www.rottentomatoes.com/m/the_swimmers_2022',\n",
       " 'https://www.rottentomatoes.com/m/lady_chatterleys_lover_2022']"
      ]
     },
     "execution_count": 16,
     "metadata": {},
     "output_type": "execute_result"
    }
   ],
   "source": [
    "links = []\n",
    "for i in range(len(movie_we)):\n",
    "    links.append(movie_we[i].get_attribute('href'))\n",
    "links[:5]"
   ]
  },
  {
   "cell_type": "code",
   "execution_count": 29,
   "metadata": {},
   "outputs": [],
   "source": [
    "dta = pd.DataFrame(columns=['Movie Name', 'Audience Score', 'Tomatometer Score', 'Rating', 'Genre',\n",
    "                            'Original Language', 'Director', 'Producer', 'Writer', 'Release Date (Theaters)',\n",
    "                           'Release Date (Streaming)', 'Box Office (Gross USA)', 'Runtime', 'Distributor',\n",
    "                            'Sound Mix', 'Aspect Ratio', 'View the collection'])"
   ]
  },
  {
   "cell_type": "code",
   "execution_count": 26,
   "metadata": {},
   "outputs": [],
   "source": [
    "info_we = driver.find_elements(By.XPATH,'//score-board')\n",
    "\n",
    "movie_info = {'Movie Name':'','Audience Score':'','Tomatometer Score':''}\n",
    "\n",
    "movie_info['Movie Name'] = info_we[0].text.split('n')[0]\n",
    "\n",
    "movie_info['Audience Score'] = info_we[0].get_attribute('audiencescore')\n",
    "\n",
    "movie_info['Tomatometer Score'] = info_we[0].get_attribute('tomatometerscore')"
   ]
  },
  {
   "cell_type": "code",
   "execution_count": 28,
   "metadata": {},
   "outputs": [
    {
     "name": "stdout",
     "output_type": "stream",
     "text": [
      "{'Movie Name': \"ROALD DAHL'S MATILDA THE MUSICAL\\nPG 2022, Kids & family/Musical, 1h 57m\\n91%\\nTOMATOMETER\\n34 Reviews\\n--\\nAUDIENCE SCORE\\n0 Rati\", 'Audience Score': '', 'Tomatometer Score': '91'}\n"
     ]
    }
   ],
   "source": [
    "print(movie_info)"
   ]
  },
  {
   "cell_type": "code",
   "execution_count": 30,
   "metadata": {},
   "outputs": [],
   "source": [
    "webelement_list_val = []\n",
    "webelement_list_key = []\n",
    "webelement_list_key = driver.find_elements(By.XPATH,'//div[@data-qa=\"movie-info-item-label\"]')\n",
    "webelement_list_val = driver.find_elements(By.XPATH,'//div[@data-qa=\"movie-info-item-value\"]')"
   ]
  },
  {
   "cell_type": "code",
   "execution_count": 31,
   "metadata": {},
   "outputs": [],
   "source": [
    "key_list, val_list = [],[]\n",
    "for k,v in zip(webelement_list_key, webelement_list_val):\n",
    "     key_list.append(k.text.strip(':'))\n",
    "     val_list.append(v.text)\n",
    "info = dict(zip(key_list,val_list)) #converting lists to dictionary"
   ]
  },
  {
   "cell_type": "code",
   "execution_count": 32,
   "metadata": {},
   "outputs": [],
   "source": [
    "total_info = {**movie_info,**info}"
   ]
  },
  {
   "cell_type": "code",
   "execution_count": 33,
   "metadata": {},
   "outputs": [
    {
     "name": "stderr",
     "output_type": "stream",
     "text": [
      "/var/folders/r6/0f88gc2d4n72g44xyxkb5bmr0000gn/T/ipykernel_4908/2898257466.py:1: FutureWarning: The frame.append method is deprecated and will be removed from pandas in a future version. Use pandas.concat instead.\n",
      "  dta = dta.append(total_info, ignore_index=True)\n"
     ]
    }
   ],
   "source": [
    "dta = dta.append(total_info, ignore_index=True)"
   ]
  },
  {
   "cell_type": "markdown",
   "metadata": {},
   "source": [
    "Scrape all in the next. (the same steps as before but for all links) \n",
    "only the first 5 until its good"
   ]
  },
  {
   "cell_type": "code",
   "execution_count": 34,
   "metadata": {},
   "outputs": [
    {
     "name": "stderr",
     "output_type": "stream",
     "text": [
      "loading....:   0%|          | 0/5 [00:00<?, ?it/s]/var/folders/r6/0f88gc2d4n72g44xyxkb5bmr0000gn/T/ipykernel_4908/1085075540.py:19: FutureWarning: The frame.append method is deprecated and will be removed from pandas in a future version. Use pandas.concat instead.\n",
      "  dta = dta.append(total_info, ignore_index=True)\n",
      "loading....:  20%|██        | 1/5 [00:06<00:25,  6.37s/it]/var/folders/r6/0f88gc2d4n72g44xyxkb5bmr0000gn/T/ipykernel_4908/1085075540.py:19: FutureWarning: The frame.append method is deprecated and will be removed from pandas in a future version. Use pandas.concat instead.\n",
      "  dta = dta.append(total_info, ignore_index=True)\n",
      "loading....:  40%|████      | 2/5 [00:08<00:12,  4.13s/it]/var/folders/r6/0f88gc2d4n72g44xyxkb5bmr0000gn/T/ipykernel_4908/1085075540.py:19: FutureWarning: The frame.append method is deprecated and will be removed from pandas in a future version. Use pandas.concat instead.\n",
      "  dta = dta.append(total_info, ignore_index=True)\n",
      "loading....:  60%|██████    | 3/5 [00:12<00:07,  3.75s/it]/var/folders/r6/0f88gc2d4n72g44xyxkb5bmr0000gn/T/ipykernel_4908/1085075540.py:19: FutureWarning: The frame.append method is deprecated and will be removed from pandas in a future version. Use pandas.concat instead.\n",
      "  dta = dta.append(total_info, ignore_index=True)\n",
      "loading....:  80%|████████  | 4/5 [00:14<00:03,  3.27s/it]/var/folders/r6/0f88gc2d4n72g44xyxkb5bmr0000gn/T/ipykernel_4908/1085075540.py:19: FutureWarning: The frame.append method is deprecated and will be removed from pandas in a future version. Use pandas.concat instead.\n",
      "  dta = dta.append(total_info, ignore_index=True)\n",
      "loading....: 100%|██████████| 5/5 [00:17<00:00,  3.55s/it]\n"
     ]
    }
   ],
   "source": [
    "from tqdm import tqdm\n",
    "for link in tqdm(links[:5], desc='loading....'):\n",
    "    driver.get(link)\n",
    "    info_we = driver.find_elements(By.XPATH,'//score-board')\n",
    "    movie_info = {'Movie Name':'','Audience Score':'','Tomatometer Score':''}\n",
    "    movie_info['Movie Name'] = info_we[0].text.split('n')[0]\n",
    "    movie_info['Audience Score'] = info_we[0].get_attribute('audiencescore')\n",
    "    movie_info['Tomatometer Score'] = info_we[0].get_attribute('tomatometerscore')\n",
    "    webelement_list_val = []\n",
    "    webelement_list_key = []\n",
    "    webelement_list_key = driver.find_elements(By.XPATH,'//div[@data-qa=\"movie-info-item-label\"]')\n",
    "    webelement_list_val = driver.find_elements(By.XPATH,'//div[@data-qa=\"movie-info-item-value\"]')\n",
    "    key_list, val_list = [],[]\n",
    "    for k,v in zip(webelement_list_key, webelement_list_val):\n",
    "        key_list.append(k.text.strip(':'))\n",
    "        val_list.append(v.text)\n",
    "    info = dict(zip(key_list,val_list))\n",
    "    total_info = {**movie_info,**info} \n",
    "    dta = dta.append(total_info, ignore_index=True)"
   ]
  },
  {
   "cell_type": "code",
   "execution_count": 35,
   "metadata": {},
   "outputs": [
    {
     "data": {
      "text/html": [
       "<div>\n",
       "<style scoped>\n",
       "    .dataframe tbody tr th:only-of-type {\n",
       "        vertical-align: middle;\n",
       "    }\n",
       "\n",
       "    .dataframe tbody tr th {\n",
       "        vertical-align: top;\n",
       "    }\n",
       "\n",
       "    .dataframe thead th {\n",
       "        text-align: right;\n",
       "    }\n",
       "</style>\n",
       "<table border=\"1\" class=\"dataframe\">\n",
       "  <thead>\n",
       "    <tr style=\"text-align: right;\">\n",
       "      <th></th>\n",
       "      <th>Movie Name</th>\n",
       "      <th>Audience Score</th>\n",
       "      <th>Tomatometer Score</th>\n",
       "      <th>Rating</th>\n",
       "      <th>Genre</th>\n",
       "      <th>Original Language</th>\n",
       "      <th>Director</th>\n",
       "      <th>Producer</th>\n",
       "      <th>Writer</th>\n",
       "      <th>Release Date (Theaters)</th>\n",
       "      <th>Release Date (Streaming)</th>\n",
       "      <th>Box Office (Gross USA)</th>\n",
       "      <th>Runtime</th>\n",
       "      <th>Distributor</th>\n",
       "      <th>Sound Mix</th>\n",
       "      <th>Aspect Ratio</th>\n",
       "      <th>View the collection</th>\n",
       "    </tr>\n",
       "  </thead>\n",
       "  <tbody>\n",
       "    <tr>\n",
       "      <th>0</th>\n",
       "      <td>ROALD DAHL'S MATILDA THE MUSICAL\\nPG 2022, Kid...</td>\n",
       "      <td></td>\n",
       "      <td>91</td>\n",
       "      <td>PG (Some Language|Thematic Elements)</td>\n",
       "      <td>Kids &amp; Family, Musical, Comedy, Drama, Fantasy</td>\n",
       "      <td>English</td>\n",
       "      <td>Matthew Warchus</td>\n",
       "      <td>Tim Bevan, Eric Fellner, Jon Finn, Luke Kelly</td>\n",
       "      <td>Roald Dahl, Dennis Kelly</td>\n",
       "      <td>Dec 9, 2022  Limited</td>\n",
       "      <td>Dec 25, 2022</td>\n",
       "      <td>NaN</td>\n",
       "      <td>1h 57m</td>\n",
       "      <td>Netflix</td>\n",
       "      <td>NaN</td>\n",
       "      <td>NaN</td>\n",
       "      <td>NaN</td>\n",
       "    </tr>\n",
       "    <tr>\n",
       "      <th>1</th>\n",
       "      <td>GUILLERMO DEL TORO'S PINOCCHIO\\nPG 2022, Music...</td>\n",
       "      <td>84</td>\n",
       "      <td>97</td>\n",
       "      <td>PG (Peril|Dark Thematic Material|Brief Smoking...</td>\n",
       "      <td>Musical, Fantasy, Animation</td>\n",
       "      <td>English</td>\n",
       "      <td>Guillermo del Toro, Mark Gustafson</td>\n",
       "      <td>Alexander Bulkley, Corey Campodonico, Guillerm...</td>\n",
       "      <td>Guillermo del Toro, Patrick McHale</td>\n",
       "      <td>Nov 9, 2022  Limited</td>\n",
       "      <td>Dec 9, 2022</td>\n",
       "      <td>NaN</td>\n",
       "      <td>1h 57m</td>\n",
       "      <td>Netflix</td>\n",
       "      <td>Dolby Atmos, Dolby Digital</td>\n",
       "      <td>Flat (1.85:1)</td>\n",
       "      <td>NaN</td>\n",
       "    </tr>\n",
       "    <tr>\n",
       "      <th>2</th>\n",
       "      <td>THE GUARDIANS OF THE GALAXY HOLIDAY SPECIAL\\n2...</td>\n",
       "      <td>82</td>\n",
       "      <td>92</td>\n",
       "      <td>NaN</td>\n",
       "      <td>Action, Adventure, Comedy, Holiday</td>\n",
       "      <td>English</td>\n",
       "      <td>James Gunn</td>\n",
       "      <td>NaN</td>\n",
       "      <td>James Gunn</td>\n",
       "      <td>NaN</td>\n",
       "      <td>Nov 25, 2022</td>\n",
       "      <td>NaN</td>\n",
       "      <td>44m</td>\n",
       "      <td>NaN</td>\n",
       "      <td>NaN</td>\n",
       "      <td>NaN</td>\n",
       "      <td>Marvel Cinematic Universe</td>\n",
       "    </tr>\n",
       "    <tr>\n",
       "      <th>3</th>\n",
       "      <td>THE WONDER\\nR 2022, Mystery &amp; thriller/Drama, ...</td>\n",
       "      <td>73</td>\n",
       "      <td>87</td>\n",
       "      <td>R</td>\n",
       "      <td>Mystery &amp; Thriller, Drama</td>\n",
       "      <td>English (United Kingdom)</td>\n",
       "      <td>Sebastián Lelio</td>\n",
       "      <td>Tessa Ross, Juliette Howell, Ed Guiney, Andrew...</td>\n",
       "      <td>Alice Birch, Sebastián Lelio</td>\n",
       "      <td>Nov 2, 2022  Limited</td>\n",
       "      <td>Nov 16, 2022</td>\n",
       "      <td>NaN</td>\n",
       "      <td>1h 48m</td>\n",
       "      <td>Netflix</td>\n",
       "      <td>Dolby Digital</td>\n",
       "      <td>NaN</td>\n",
       "      <td>NaN</td>\n",
       "    </tr>\n",
       "    <tr>\n",
       "      <th>4</th>\n",
       "      <td>THE SWIMMERS\\nPG-13 2022, Drama/Biography, 2h ...</td>\n",
       "      <td>86</td>\n",
       "      <td>80</td>\n",
       "      <td>PG-13 (Thematic Material|Language|Some Violenc...</td>\n",
       "      <td>Drama, Biography, Sports</td>\n",
       "      <td>English</td>\n",
       "      <td>Sally El Hosaini</td>\n",
       "      <td>Tim Bevan, Eric Fellner, Tim Cole, Ali Jaafar</td>\n",
       "      <td>Jack Thorne, Sally El Hosaini</td>\n",
       "      <td>Nov 11, 2022  Limited</td>\n",
       "      <td>Nov 23, 2022</td>\n",
       "      <td>NaN</td>\n",
       "      <td>2h 14m</td>\n",
       "      <td>Netflix</td>\n",
       "      <td>Dolby Digital</td>\n",
       "      <td>NaN</td>\n",
       "      <td>NaN</td>\n",
       "    </tr>\n",
       "  </tbody>\n",
       "</table>\n",
       "</div>"
      ],
      "text/plain": [
       "                                          Movie Name Audience Score  \\\n",
       "0  ROALD DAHL'S MATILDA THE MUSICAL\\nPG 2022, Kid...                  \n",
       "1  GUILLERMO DEL TORO'S PINOCCHIO\\nPG 2022, Music...             84   \n",
       "2  THE GUARDIANS OF THE GALAXY HOLIDAY SPECIAL\\n2...             82   \n",
       "3  THE WONDER\\nR 2022, Mystery & thriller/Drama, ...             73   \n",
       "4  THE SWIMMERS\\nPG-13 2022, Drama/Biography, 2h ...             86   \n",
       "\n",
       "  Tomatometer Score                                             Rating  \\\n",
       "0                91               PG (Some Language|Thematic Elements)   \n",
       "1                97  PG (Peril|Dark Thematic Material|Brief Smoking...   \n",
       "2                92                                                NaN   \n",
       "3                87                                                  R   \n",
       "4                80  PG-13 (Thematic Material|Language|Some Violenc...   \n",
       "\n",
       "                                            Genre         Original Language  \\\n",
       "0  Kids & Family, Musical, Comedy, Drama, Fantasy                   English   \n",
       "1                     Musical, Fantasy, Animation                   English   \n",
       "2              Action, Adventure, Comedy, Holiday                   English   \n",
       "3                       Mystery & Thriller, Drama  English (United Kingdom)   \n",
       "4                        Drama, Biography, Sports                   English   \n",
       "\n",
       "                             Director  \\\n",
       "0                     Matthew Warchus   \n",
       "1  Guillermo del Toro, Mark Gustafson   \n",
       "2                          James Gunn   \n",
       "3                     Sebastián Lelio   \n",
       "4                    Sally El Hosaini   \n",
       "\n",
       "                                            Producer  \\\n",
       "0      Tim Bevan, Eric Fellner, Jon Finn, Luke Kelly   \n",
       "1  Alexander Bulkley, Corey Campodonico, Guillerm...   \n",
       "2                                                NaN   \n",
       "3  Tessa Ross, Juliette Howell, Ed Guiney, Andrew...   \n",
       "4      Tim Bevan, Eric Fellner, Tim Cole, Ali Jaafar   \n",
       "\n",
       "                               Writer Release Date (Theaters)  \\\n",
       "0            Roald Dahl, Dennis Kelly    Dec 9, 2022  Limited   \n",
       "1  Guillermo del Toro, Patrick McHale    Nov 9, 2022  Limited   \n",
       "2                          James Gunn                     NaN   \n",
       "3        Alice Birch, Sebastián Lelio    Nov 2, 2022  Limited   \n",
       "4       Jack Thorne, Sally El Hosaini   Nov 11, 2022  Limited   \n",
       "\n",
       "  Release Date (Streaming) Box Office (Gross USA) Runtime Distributor  \\\n",
       "0             Dec 25, 2022                    NaN  1h 57m     Netflix   \n",
       "1              Dec 9, 2022                    NaN  1h 57m     Netflix   \n",
       "2             Nov 25, 2022                    NaN     44m         NaN   \n",
       "3             Nov 16, 2022                    NaN  1h 48m     Netflix   \n",
       "4             Nov 23, 2022                    NaN  2h 14m     Netflix   \n",
       "\n",
       "                    Sound Mix   Aspect Ratio        View the collection  \n",
       "0                         NaN            NaN                        NaN  \n",
       "1  Dolby Atmos, Dolby Digital  Flat (1.85:1)                        NaN  \n",
       "2                         NaN            NaN  Marvel Cinematic Universe  \n",
       "3               Dolby Digital            NaN                        NaN  \n",
       "4               Dolby Digital            NaN                        NaN  "
      ]
     },
     "execution_count": 35,
     "metadata": {},
     "output_type": "execute_result"
    }
   ],
   "source": [
    "dta.head()"
   ]
  },
  {
   "cell_type": "code",
   "execution_count": 42,
   "metadata": {},
   "outputs": [
    {
     "name": "stdout",
     "output_type": "stream",
     "text": [
      "<class 'pandas.core.frame.DataFrame'>\n",
      "RangeIndex: 6 entries, 0 to 5\n",
      "Data columns (total 17 columns):\n",
      " #   Column                    Non-Null Count  Dtype \n",
      "---  ------                    --------------  ----- \n",
      " 0   Movie Name                6 non-null      object\n",
      " 1   Audience Score            6 non-null      object\n",
      " 2   Tomatometer Score         6 non-null      object\n",
      " 3   Rating                    5 non-null      object\n",
      " 4   Genre                     6 non-null      object\n",
      " 5   Original Language         6 non-null      object\n",
      " 6   Director                  6 non-null      object\n",
      " 7   Producer                  5 non-null      object\n",
      " 8   Writer                    5 non-null      object\n",
      " 9   Release Date (Theaters)   5 non-null      object\n",
      " 10  Release Date (Streaming)  6 non-null      object\n",
      " 11  Box Office (Gross USA)    0 non-null      object\n",
      " 12  Runtime                   6 non-null      object\n",
      " 13  Distributor               5 non-null      object\n",
      " 14  Sound Mix                 4 non-null      object\n",
      " 15  Aspect Ratio              1 non-null      object\n",
      " 16  View the collection       1 non-null      object\n",
      "dtypes: object(17)\n",
      "memory usage: 944.0+ bytes\n"
     ]
    }
   ],
   "source": [
    "dta.info()"
   ]
  },
  {
   "cell_type": "markdown",
   "metadata": {},
   "source": [
    "Error if one column is empty, if empty use -1  (later it will be replaced NULL)"
   ]
  },
  {
   "cell_type": "code",
   "execution_count": 58,
   "metadata": {},
   "outputs": [
    {
     "name": "stderr",
     "output_type": "stream",
     "text": [
      "/var/folders/r6/0f88gc2d4n72g44xyxkb5bmr0000gn/T/ipykernel_4908/3065288321.py:1: SettingWithCopyWarning: \n",
      "A value is trying to be set on a copy of a slice from a DataFrame\n",
      "\n",
      "See the caveats in the documentation: https://pandas.pydata.org/pandas-docs/stable/user_guide/indexing.html#returning-a-view-versus-a-copy\n",
      "  dta['Audience Score'].loc[dta['Audience Score'] == \"\"] = -1\n"
     ]
    }
   ],
   "source": [
    "dta['Audience Score'].loc[dta['Audience Score'] == \"\"] = -1"
   ]
  },
  {
   "cell_type": "code",
   "execution_count": 60,
   "metadata": {},
   "outputs": [
    {
     "name": "stdout",
     "output_type": "stream",
     "text": [
      "Tomatometer Score    int64\n",
      "Audience Score       int64\n",
      "dtype: object\n"
     ]
    }
   ],
   "source": [
    "dta[['Tomatometer Score','Audience Score']]=dta[['Tomatometer Score','Audience Score']].astype(int)\n",
    "print(dta[['Tomatometer Score','Audience Score']].dtypes)"
   ]
  },
  {
   "cell_type": "code",
   "execution_count": 47,
   "metadata": {},
   "outputs": [
    {
     "name": "stdout",
     "output_type": "stream",
     "text": [
      "0   2022-12-25\n",
      "1   2022-12-09\n",
      "2   2022-11-25\n",
      "3   2022-11-16\n",
      "4   2022-11-23\n",
      "Name: Release Date (Streaming), dtype: datetime64[ns]\n"
     ]
    }
   ],
   "source": [
    "dta['Release Date (Streaming)'] = pd.to_datetime(dta['Release Date (Streaming)'])\n",
    "print(dta['Release Date (Streaming)'].head())"
   ]
  },
  {
   "cell_type": "code",
   "execution_count": 48,
   "metadata": {},
   "outputs": [],
   "source": [
    "def func(x):\n",
    "    if type(x) != float:\n",
    "        li = x.split(' ')\n",
    "        li.remove(li[-1])\n",
    "        time = ' '.join(li).replace(',','')\n",
    "        return time\n",
    "dta['Release Date (Theaters)'] = dta['Release Date (Theaters)'].apply(func)\n",
    "dta['Release Date (Theaters)'] = pd.to_datetime(dta['Release Date (Theaters)'])"
   ]
  },
  {
   "cell_type": "code",
   "execution_count": 49,
   "metadata": {},
   "outputs": [
    {
     "name": "stderr",
     "output_type": "stream",
     "text": [
      "/var/folders/r6/0f88gc2d4n72g44xyxkb5bmr0000gn/T/ipykernel_4908/711523957.py:1: SettingWithCopyWarning: \n",
      "A value is trying to be set on a copy of a slice from a DataFrame\n",
      "\n",
      "See the caveats in the documentation: https://pandas.pydata.org/pandas-docs/stable/user_guide/indexing.html#returning-a-view-versus-a-copy\n",
      "  dta['Rating'].loc[dta['Rating'].isnull()] = 'None'\n"
     ]
    }
   ],
   "source": [
    "dta['Rating'].loc[dta['Rating'].isnull()] = 'None'"
   ]
  },
  {
   "cell_type": "code",
   "execution_count": 50,
   "metadata": {},
   "outputs": [],
   "source": [
    "dta['Rating'] = dta['Rating'].agg(lambda a : a.split(' ')[0])"
   ]
  },
  {
   "cell_type": "code",
   "execution_count": 51,
   "metadata": {},
   "outputs": [
    {
     "data": {
      "text/plain": [
       "PG       2\n",
       "R        2\n",
       "None     1\n",
       "PG-13    1\n",
       "Name: Rating, dtype: int64"
      ]
     },
     "execution_count": 51,
     "metadata": {},
     "output_type": "execute_result"
    }
   ],
   "source": [
    "dta.Rating.value_counts()"
   ]
  },
  {
   "cell_type": "code",
   "execution_count": 61,
   "metadata": {},
   "outputs": [
    {
     "data": {
      "text/html": [
       "<div>\n",
       "<style scoped>\n",
       "    .dataframe tbody tr th:only-of-type {\n",
       "        vertical-align: middle;\n",
       "    }\n",
       "\n",
       "    .dataframe tbody tr th {\n",
       "        vertical-align: top;\n",
       "    }\n",
       "\n",
       "    .dataframe thead th {\n",
       "        text-align: right;\n",
       "    }\n",
       "</style>\n",
       "<table border=\"1\" class=\"dataframe\">\n",
       "  <thead>\n",
       "    <tr style=\"text-align: right;\">\n",
       "      <th></th>\n",
       "      <th>Movie Name</th>\n",
       "      <th>Audience Score</th>\n",
       "      <th>Tomatometer Score</th>\n",
       "      <th>Rating</th>\n",
       "      <th>Genre</th>\n",
       "      <th>Original Language</th>\n",
       "      <th>Director</th>\n",
       "      <th>Producer</th>\n",
       "      <th>Writer</th>\n",
       "      <th>Release Date (Theaters)</th>\n",
       "      <th>Release Date (Streaming)</th>\n",
       "      <th>Box Office (Gross USA)</th>\n",
       "      <th>Runtime</th>\n",
       "      <th>Distributor</th>\n",
       "      <th>Sound Mix</th>\n",
       "      <th>Aspect Ratio</th>\n",
       "      <th>View the collection</th>\n",
       "    </tr>\n",
       "  </thead>\n",
       "  <tbody>\n",
       "    <tr>\n",
       "      <th>0</th>\n",
       "      <td>ROALD DAHL'S MATILDA THE MUSICAL\\nPG 2022, Kid...</td>\n",
       "      <td>-1</td>\n",
       "      <td>91</td>\n",
       "      <td>PG</td>\n",
       "      <td>Kids &amp; Family, Musical, Comedy, Drama, Fantasy</td>\n",
       "      <td>English</td>\n",
       "      <td>Matthew Warchus</td>\n",
       "      <td>Tim Bevan, Eric Fellner, Jon Finn, Luke Kelly</td>\n",
       "      <td>Roald Dahl, Dennis Kelly</td>\n",
       "      <td>2022-12-09</td>\n",
       "      <td>2022-12-25</td>\n",
       "      <td>NaN</td>\n",
       "      <td>1h 57m</td>\n",
       "      <td>Netflix</td>\n",
       "      <td>NaN</td>\n",
       "      <td>NaN</td>\n",
       "      <td>NaN</td>\n",
       "    </tr>\n",
       "    <tr>\n",
       "      <th>1</th>\n",
       "      <td>GUILLERMO DEL TORO'S PINOCCHIO\\nPG 2022, Music...</td>\n",
       "      <td>84</td>\n",
       "      <td>97</td>\n",
       "      <td>PG</td>\n",
       "      <td>Musical, Fantasy, Animation</td>\n",
       "      <td>English</td>\n",
       "      <td>Guillermo del Toro, Mark Gustafson</td>\n",
       "      <td>Alexander Bulkley, Corey Campodonico, Guillerm...</td>\n",
       "      <td>Guillermo del Toro, Patrick McHale</td>\n",
       "      <td>2022-11-09</td>\n",
       "      <td>2022-12-09</td>\n",
       "      <td>NaN</td>\n",
       "      <td>1h 57m</td>\n",
       "      <td>Netflix</td>\n",
       "      <td>Dolby Atmos, Dolby Digital</td>\n",
       "      <td>Flat (1.85:1)</td>\n",
       "      <td>NaN</td>\n",
       "    </tr>\n",
       "    <tr>\n",
       "      <th>2</th>\n",
       "      <td>THE GUARDIANS OF THE GALAXY HOLIDAY SPECIAL\\n2...</td>\n",
       "      <td>82</td>\n",
       "      <td>92</td>\n",
       "      <td>None</td>\n",
       "      <td>Action, Adventure, Comedy, Holiday</td>\n",
       "      <td>English</td>\n",
       "      <td>James Gunn</td>\n",
       "      <td>NaN</td>\n",
       "      <td>James Gunn</td>\n",
       "      <td>NaT</td>\n",
       "      <td>2022-11-25</td>\n",
       "      <td>NaN</td>\n",
       "      <td>44m</td>\n",
       "      <td>NaN</td>\n",
       "      <td>NaN</td>\n",
       "      <td>NaN</td>\n",
       "      <td>Marvel Cinematic Universe</td>\n",
       "    </tr>\n",
       "    <tr>\n",
       "      <th>3</th>\n",
       "      <td>THE WONDER\\nR 2022, Mystery &amp; thriller/Drama, ...</td>\n",
       "      <td>73</td>\n",
       "      <td>87</td>\n",
       "      <td>R</td>\n",
       "      <td>Mystery &amp; Thriller, Drama</td>\n",
       "      <td>English (United Kingdom)</td>\n",
       "      <td>Sebastián Lelio</td>\n",
       "      <td>Tessa Ross, Juliette Howell, Ed Guiney, Andrew...</td>\n",
       "      <td>Alice Birch, Sebastián Lelio</td>\n",
       "      <td>2022-11-02</td>\n",
       "      <td>2022-11-16</td>\n",
       "      <td>NaN</td>\n",
       "      <td>1h 48m</td>\n",
       "      <td>Netflix</td>\n",
       "      <td>Dolby Digital</td>\n",
       "      <td>NaN</td>\n",
       "      <td>NaN</td>\n",
       "    </tr>\n",
       "    <tr>\n",
       "      <th>4</th>\n",
       "      <td>THE SWIMMERS\\nPG-13 2022, Drama/Biography, 2h ...</td>\n",
       "      <td>86</td>\n",
       "      <td>80</td>\n",
       "      <td>PG-13</td>\n",
       "      <td>Drama, Biography, Sports</td>\n",
       "      <td>English</td>\n",
       "      <td>Sally El Hosaini</td>\n",
       "      <td>Tim Bevan, Eric Fellner, Tim Cole, Ali Jaafar</td>\n",
       "      <td>Jack Thorne, Sally El Hosaini</td>\n",
       "      <td>2022-11-11</td>\n",
       "      <td>2022-11-23</td>\n",
       "      <td>NaN</td>\n",
       "      <td>2h 14m</td>\n",
       "      <td>Netflix</td>\n",
       "      <td>Dolby Digital</td>\n",
       "      <td>NaN</td>\n",
       "      <td>NaN</td>\n",
       "    </tr>\n",
       "  </tbody>\n",
       "</table>\n",
       "</div>"
      ],
      "text/plain": [
       "                                          Movie Name  Audience Score  \\\n",
       "0  ROALD DAHL'S MATILDA THE MUSICAL\\nPG 2022, Kid...              -1   \n",
       "1  GUILLERMO DEL TORO'S PINOCCHIO\\nPG 2022, Music...              84   \n",
       "2  THE GUARDIANS OF THE GALAXY HOLIDAY SPECIAL\\n2...              82   \n",
       "3  THE WONDER\\nR 2022, Mystery & thriller/Drama, ...              73   \n",
       "4  THE SWIMMERS\\nPG-13 2022, Drama/Biography, 2h ...              86   \n",
       "\n",
       "   Tomatometer Score Rating                                           Genre  \\\n",
       "0                 91     PG  Kids & Family, Musical, Comedy, Drama, Fantasy   \n",
       "1                 97     PG                     Musical, Fantasy, Animation   \n",
       "2                 92   None              Action, Adventure, Comedy, Holiday   \n",
       "3                 87      R                       Mystery & Thriller, Drama   \n",
       "4                 80  PG-13                        Drama, Biography, Sports   \n",
       "\n",
       "          Original Language                            Director  \\\n",
       "0                   English                     Matthew Warchus   \n",
       "1                   English  Guillermo del Toro, Mark Gustafson   \n",
       "2                   English                          James Gunn   \n",
       "3  English (United Kingdom)                     Sebastián Lelio   \n",
       "4                   English                    Sally El Hosaini   \n",
       "\n",
       "                                            Producer  \\\n",
       "0      Tim Bevan, Eric Fellner, Jon Finn, Luke Kelly   \n",
       "1  Alexander Bulkley, Corey Campodonico, Guillerm...   \n",
       "2                                                NaN   \n",
       "3  Tessa Ross, Juliette Howell, Ed Guiney, Andrew...   \n",
       "4      Tim Bevan, Eric Fellner, Tim Cole, Ali Jaafar   \n",
       "\n",
       "                               Writer Release Date (Theaters)  \\\n",
       "0            Roald Dahl, Dennis Kelly              2022-12-09   \n",
       "1  Guillermo del Toro, Patrick McHale              2022-11-09   \n",
       "2                          James Gunn                     NaT   \n",
       "3        Alice Birch, Sebastián Lelio              2022-11-02   \n",
       "4       Jack Thorne, Sally El Hosaini              2022-11-11   \n",
       "\n",
       "  Release Date (Streaming) Box Office (Gross USA) Runtime Distributor  \\\n",
       "0               2022-12-25                    NaN  1h 57m     Netflix   \n",
       "1               2022-12-09                    NaN  1h 57m     Netflix   \n",
       "2               2022-11-25                    NaN     44m         NaN   \n",
       "3               2022-11-16                    NaN  1h 48m     Netflix   \n",
       "4               2022-11-23                    NaN  2h 14m     Netflix   \n",
       "\n",
       "                    Sound Mix   Aspect Ratio        View the collection  \n",
       "0                         NaN            NaN                        NaN  \n",
       "1  Dolby Atmos, Dolby Digital  Flat (1.85:1)                        NaN  \n",
       "2                         NaN            NaN  Marvel Cinematic Universe  \n",
       "3               Dolby Digital            NaN                        NaN  \n",
       "4               Dolby Digital            NaN                        NaN  "
      ]
     },
     "execution_count": 61,
     "metadata": {},
     "output_type": "execute_result"
    }
   ],
   "source": [
    "dta.head()"
   ]
  },
  {
   "cell_type": "code",
   "execution_count": 69,
   "metadata": {},
   "outputs": [],
   "source": [
    "dta.to_csv('output/Setsfile.csv', index=False)"
   ]
  }
 ],
 "metadata": {
  "kernelspec": {
   "display_name": "Python 3.9.7 64-bit",
   "language": "python",
   "name": "python3"
  },
  "language_info": {
   "codemirror_mode": {
    "name": "ipython",
    "version": 3
   },
   "file_extension": ".py",
   "mimetype": "text/x-python",
   "name": "python",
   "nbconvert_exporter": "python",
   "pygments_lexer": "ipython3",
   "version": "3.9.7"
  },
  "orig_nbformat": 4,
  "vscode": {
   "interpreter": {
    "hash": "aee8b7b246df8f9039afb4144a1f6fd8d2ca17a180786b69acc140d282b71a49"
   }
  }
 },
 "nbformat": 4,
 "nbformat_minor": 2
}
