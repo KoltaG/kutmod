{
 "cells": [
  {
   "cell_type": "code",
   "execution_count": 7,
   "metadata": {},
   "outputs": [
    {
     "ename": "KeyboardInterrupt",
     "evalue": "",
     "output_type": "error",
     "traceback": [
      "\u001b[0;31m---------------------------------------------------------------------------\u001b[0m",
      "\u001b[0;31mKeyboardInterrupt\u001b[0m                         Traceback (most recent call last)",
      "\u001b[0;32m/var/folders/r6/0f88gc2d4n72g44xyxkb5bmr0000gn/T/ipykernel_25129/2871335726.py\u001b[0m in \u001b[0;36m<module>\u001b[0;34m\u001b[0m\n\u001b[1;32m     41\u001b[0m     \u001b[0;32mreturn\u001b[0m \u001b[0mreview_data\u001b[0m\u001b[0;34m\u001b[0m\u001b[0;34m\u001b[0m\u001b[0m\n\u001b[1;32m     42\u001b[0m \u001b[0;34m\u001b[0m\u001b[0m\n\u001b[0;32m---> 43\u001b[0;31m \u001b[0mdata\u001b[0m \u001b[0;34m=\u001b[0m \u001b[0mget_reviews\u001b[0m\u001b[0;34m(\u001b[0m\u001b[0;34m'https://www.rottentomatoes.com/m/interstellar_2014/reviews'\u001b[0m\u001b[0;34m)\u001b[0m\u001b[0;34m\u001b[0m\u001b[0;34m\u001b[0m\u001b[0m\n\u001b[0m\u001b[1;32m     44\u001b[0m \u001b[0mdf\u001b[0m \u001b[0;34m=\u001b[0m \u001b[0mpd\u001b[0m\u001b[0;34m.\u001b[0m\u001b[0mjson_normalize\u001b[0m\u001b[0;34m(\u001b[0m\u001b[0mdata\u001b[0m\u001b[0;34m)\u001b[0m\u001b[0;34m\u001b[0m\u001b[0;34m\u001b[0m\u001b[0m\n",
      "\u001b[0;32m/var/folders/r6/0f88gc2d4n72g44xyxkb5bmr0000gn/T/ipykernel_25129/2871335726.py\u001b[0m in \u001b[0;36mget_reviews\u001b[0;34m(url)\u001b[0m\n\u001b[1;32m     37\u001b[0m \u001b[0;34m\u001b[0m\u001b[0m\n\u001b[1;32m     38\u001b[0m         \u001b[0mreview_data\u001b[0m\u001b[0;34m.\u001b[0m\u001b[0mextend\u001b[0m\u001b[0;34m(\u001b[0m\u001b[0mdata\u001b[0m\u001b[0;34m[\u001b[0m\u001b[0;34m'reviews'\u001b[0m\u001b[0;34m]\u001b[0m\u001b[0;34m)\u001b[0m\u001b[0;34m\u001b[0m\u001b[0;34m\u001b[0m\u001b[0m\n\u001b[0;32m---> 39\u001b[0;31m         \u001b[0mtime\u001b[0m\u001b[0;34m.\u001b[0m\u001b[0msleep\u001b[0m\u001b[0;34m(\u001b[0m\u001b[0;36m1\u001b[0m\u001b[0;34m)\u001b[0m\u001b[0;34m\u001b[0m\u001b[0;34m\u001b[0m\u001b[0m\n\u001b[0m\u001b[1;32m     40\u001b[0m \u001b[0;34m\u001b[0m\u001b[0m\n\u001b[1;32m     41\u001b[0m     \u001b[0;32mreturn\u001b[0m \u001b[0mreview_data\u001b[0m\u001b[0;34m\u001b[0m\u001b[0;34m\u001b[0m\u001b[0m\n",
      "\u001b[0;31mKeyboardInterrupt\u001b[0m: "
     ]
    }
   ],
   "source": [
    "import pandas as pd\n",
    "import requests\n",
    "import re\n",
    "import time\n",
    "\n",
    "headers = {\n",
    "    'Referer': 'https://www.rottentomatoes.com/m/notebook/reviews?type=user',\n",
    "    'User-Agent': 'Mozilla/5.0 (Windows NT 10.0; Win64; x64) AppleWebKit/537.36 (KHTML, like Gecko) Chrome/74.0.3729.108 Safari/537.36',\n",
    "    'X-Requested-With': 'XMLHttpRequest',\n",
    "}\n",
    "\n",
    "s = requests.Session()\n",
    "        \n",
    "def get_reviews(url):\n",
    "    r = requests.get(url)\n",
    "    movie_id = re.findall(r'(?<=movieId\":\")(.*)(?=\",\"type)',r.text)[0]\n",
    "\n",
    "    api_url = f\"https://www.rottentomatoes.com/napi/movie/{movie_id}/reviews/user\" #use reviews/userfor user reviews /criticsReviews/all for critics\n",
    "    \n",
    "    payload = {\n",
    "        'direction': 'next',\n",
    "        'endCursor': '',\n",
    "        'startCursor': '',\n",
    "    }\n",
    "    \n",
    "    review_data = []\n",
    "    \n",
    "    while True:\n",
    "        r = s.get(api_url, headers=headers, params=payload)\n",
    "        data = r.json()\n",
    "\n",
    "        if not data['pageInfo']['hasNextPage']:\n",
    "            break\n",
    "\n",
    "        payload['endCursor'] = data['pageInfo']['endCursor']\n",
    "        payload['startCursor'] = data['pageInfo']['startCursor'] if data['pageInfo'].get('startCursor') else ''\n",
    "\n",
    "        review_data.extend(data['reviews'])\n",
    "        time.sleep(1)\n",
    "    \n",
    "    return review_data\n",
    "\n",
    "data = get_reviews('https://www.rottentomatoes.com/m/interstellar_2014/reviews')\n",
    "df = pd.json_normalize(data)\n"
   ]
  },
  {
   "cell_type": "code",
   "execution_count": 5,
   "metadata": {},
   "outputs": [],
   "source": [
    "df.to_csv('output/reviews.csv', index=False)"
   ]
  },
  {
   "cell_type": "code",
   "execution_count": 3,
   "metadata": {},
   "outputs": [
    {
     "name": "stdout",
     "output_type": "stream",
     "text": [
      "     creationDate  isFresh  isRotten  isRtUrl  isTop  \\\n",
      "0    Aug 22, 2022     True     False    False  False   \n",
      "1    Jun 30, 2022     True     False    False  False   \n",
      "2    May 27, 2022     True     False    False  False   \n",
      "3    Feb 11, 2022     True     False    False  False   \n",
      "4     Oct 9, 2021     True     False    False  False   \n",
      "..            ...      ...       ...      ...    ...   \n",
      "355  Oct 27, 2014     True     False    False   True   \n",
      "356  Oct 27, 2014     True     False    False  False   \n",
      "357  Oct 27, 2014    False      True    False  False   \n",
      "358  Oct 27, 2014     True     False    False   True   \n",
      "359  Oct 27, 2014     True     False    False   True   \n",
      "\n",
      "                                             reviewUrl  \\\n",
      "0    https://keithandthemovies.com/2014/11/22/revie...   \n",
      "1    https://deepfocusreview.com/reviews/interstellar/   \n",
      "2    https://www.nextbestpicture.com/interstellar.html   \n",
      "3    https://www.williamsonhomepage.com/community/w...   \n",
      "4    https://www.nerdophiles.com/2014/11/05/interst...   \n",
      "..                                                 ...   \n",
      "355  http://www.independent.co.uk/arts-entertainmen...   \n",
      "356  http://www.theverge.com/2014/10/27/7077877/int...   \n",
      "357                                                      \n",
      "358  http://variety.com/2014/film/reviews/film-revi...   \n",
      "359  http://www.telegraph.co.uk/culture/film/filmre...   \n",
      "\n",
      "                                                 quote   reviewId scoreOri  \\\n",
      "0    It&#8217;s a contemplative adventure and an em...  102722313      5/5   \n",
      "1    Rarely do epics of this scope and intelligence...  102705084      4/4   \n",
      "2    While not all-together perfect&#44; the film r...  102694093     9/10   \n",
      "3    Nolans ambition and talent, coupled with argua...  102654899      NaN   \n",
      "4    The inherent message of the film brings hope, ...    2830324      3/5   \n",
      "..                                                 ...        ...      ...   \n",
      "355  It combines abstruse ideas about gravity, matt...    2230512      4/5   \n",
      "356  The movie is most powerful when it's at its le...    2230510            \n",
      "357  Interstellar would be a stunning piece of cine...    2230506     6/10   \n",
      "358  Reaffirms Nolan as the premier big-canvas stor...    2230505            \n",
      "359  What pulls you in is its hugely confident arch...    2230504      4/5   \n",
      "\n",
      "    scoreSentiment       critic.name  \\\n",
      "0         POSITIVE  Keith Garlington   \n",
      "1         POSITIVE      Brian Eggert   \n",
      "2         POSITIVE       Josh Parham   \n",
      "3         POSITIVE     Cory Woodroof   \n",
      "4         POSITIVE    Therese Lacson   \n",
      "..             ...               ...   \n",
      "355       POSITIVE   Geoffrey Macnab   \n",
      "356       POSITIVE       Josh Dzieza   \n",
      "357       NEGATIVE  William Bibbiani   \n",
      "358       POSITIVE     Scott Foundas   \n",
      "359       POSITIVE         Tim Robey   \n",
      "\n",
      "                               critic.criticPictureUrl     critic.vanity  \\\n",
      "0    http://resizing.flixster.com/DRp3buLBvv_eHYeoV...  keith-garlington   \n",
      "1    http://resizing.flixster.com/usrjHe5VyVITboeka...      brian-eggert   \n",
      "2    http://resizing.flixster.com/EuFupn11BNQvkwSAW...       josh-parham   \n",
      "3    http://resizing.flixster.com/5VAiYYUs8sHwRGstc...     cory-woodroof   \n",
      "4    http://resizing.flixster.com/z07cKCMSHq6C3xd90...    therese-lacson   \n",
      "..                                                 ...               ...   \n",
      "355  https://images.fandango.com/cms/assets/5b6ff50...   geoffrey-macnab   \n",
      "356  https://images.fandango.com/cms/assets/5b6ff50...       josh-dzieza   \n",
      "357  http://resizing.flixster.com/MnwDBNpL4PnTQpHyS...  william-bibbiani   \n",
      "358  http://resizing.flixster.com/t-BcApRzpfue98Aro...     scott-foundas   \n",
      "359  https://images.fandango.com/cms/assets/5b6ff50...         tim-robey   \n",
      "\n",
      "    publication.id      publication.name  \n",
      "0        100009656    Keith & the Movies  \n",
      "1        100009573     Deep Focus Review  \n",
      "2             3046     Next Best Picture  \n",
      "3        100009561  Williamson Home Page  \n",
      "4             3888           Nerdophiles  \n",
      "..             ...                   ...  \n",
      "355            691      Independent (UK)  \n",
      "356           2525             The Verge  \n",
      "357           1906           CraveOnline  \n",
      "358            466               Variety  \n",
      "359            921  Daily Telegraph (UK)  \n",
      "\n",
      "[360 rows x 15 columns]\n"
     ]
    }
   ],
   "source": [
    "print(df)"
   ]
  }
 ],
 "metadata": {
  "kernelspec": {
   "display_name": "Python 3.9.7 64-bit",
   "language": "python",
   "name": "python3"
  },
  "language_info": {
   "codemirror_mode": {
    "name": "ipython",
    "version": 3
   },
   "file_extension": ".py",
   "mimetype": "text/x-python",
   "name": "python",
   "nbconvert_exporter": "python",
   "pygments_lexer": "ipython3",
   "version": "3.9.7"
  },
  "orig_nbformat": 4,
  "vscode": {
   "interpreter": {
    "hash": "aee8b7b246df8f9039afb4144a1f6fd8d2ca17a180786b69acc140d282b71a49"
   }
  }
 },
 "nbformat": 4,
 "nbformat_minor": 2
}
